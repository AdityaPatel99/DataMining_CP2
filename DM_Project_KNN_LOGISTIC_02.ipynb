{
  "cells": [
    {
      "cell_type": "markdown",
      "source": [
        "# **TASK-3 by XGBoost Model and AdaBoost Model**\n",
        "This file contains task-3 operations for problem statement-2(referenced from readme) performed by using XGBoost model and AdaBoost model as mentioned in the question.\n"
      ],
      "metadata": {
        "id": "akMmph6qrMoE"
      }
    },
    {
      "cell_type": "markdown",
      "source": [
        "# DATA PREPROCESSING AND DATA TRANSFORMATION"
      ],
      "metadata": {
        "id": "M2clCUTGrQGL"
      }
    },
    {
      "cell_type": "markdown",
      "source": [
        "## Importing all the needed libraries\n"
      ],
      "metadata": {
        "id": "NSNZ1Vw9rUnJ"
      }
    },
    {
      "cell_type": "code",
      "execution_count": null,
      "metadata": {
        "id": "KQoyk41tEdVU"
      },
      "outputs": [],
      "source": [
        "import numpy as np\n",
        "import pandas as pd\n",
        "import matplotlib.pyplot as plt\n",
        "import seaborn as sns"
      ]
    },
    {
      "cell_type": "code",
      "execution_count": null,
      "metadata": {
        "id": "8Pm8EqIZfrBj"
      },
      "outputs": [],
      "source": [
        "# from google.colab import drive\n",
        "# drive.mount('/content/drive')"
      ]
    },
    {
      "cell_type": "markdown",
      "source": [
        "## Creating a dataframe for smoking and drinking dataset"
      ],
      "metadata": {
        "id": "Us479PQyrXyp"
      }
    },
    {
      "cell_type": "code",
      "execution_count": null,
      "metadata": {
        "id": "gjHcWRdfFEgg"
      },
      "outputs": [],
      "source": [
        "# df = pd.read_csv(\"/content/drive/MyDrive/DATASET/smoking_driking_dataset_Ver01.csv\")\n",
        "df=pd.read_csv('D:\\Mtech\\Sem 1\\DATA MINING\\CP2 Project\\smoking_driking_dataset_Ver01.csv')"
      ]
    },
    {
      "cell_type": "code",
      "execution_count": null,
      "metadata": {
        "colab": {
          "base_uri": "https://localhost:8080/",
          "height": 443
        },
        "id": "8EIkrTywgZrH",
        "outputId": "74925c8d-a30f-4515-a5b9-f16954073ca1"
      },
      "outputs": [
        {
          "data": {
            "text/html": [
              "<div>\n",
              "<style scoped>\n",
              "    .dataframe tbody tr th:only-of-type {\n",
              "        vertical-align: middle;\n",
              "    }\n",
              "\n",
              "    .dataframe tbody tr th {\n",
              "        vertical-align: top;\n",
              "    }\n",
              "\n",
              "    .dataframe thead th {\n",
              "        text-align: right;\n",
              "    }\n",
              "</style>\n",
              "<table border=\"1\" class=\"dataframe\">\n",
              "  <thead>\n",
              "    <tr style=\"text-align: right;\">\n",
              "      <th></th>\n",
              "      <th>sex</th>\n",
              "      <th>age</th>\n",
              "      <th>height</th>\n",
              "      <th>weight</th>\n",
              "      <th>waistline</th>\n",
              "      <th>sight_left</th>\n",
              "      <th>sight_right</th>\n",
              "      <th>hear_left</th>\n",
              "      <th>hear_right</th>\n",
              "      <th>SBP</th>\n",
              "      <th>...</th>\n",
              "      <th>LDL_chole</th>\n",
              "      <th>triglyceride</th>\n",
              "      <th>hemoglobin</th>\n",
              "      <th>urine_protein</th>\n",
              "      <th>serum_creatinine</th>\n",
              "      <th>SGOT_AST</th>\n",
              "      <th>SGOT_ALT</th>\n",
              "      <th>gamma_GTP</th>\n",
              "      <th>SMK_stat_type_cd</th>\n",
              "      <th>DRK_YN</th>\n",
              "    </tr>\n",
              "  </thead>\n",
              "  <tbody>\n",
              "    <tr>\n",
              "      <th>0</th>\n",
              "      <td>Male</td>\n",
              "      <td>35</td>\n",
              "      <td>170</td>\n",
              "      <td>75</td>\n",
              "      <td>90.0</td>\n",
              "      <td>1.0</td>\n",
              "      <td>1.0</td>\n",
              "      <td>1</td>\n",
              "      <td>1</td>\n",
              "      <td>120</td>\n",
              "      <td>...</td>\n",
              "      <td>126</td>\n",
              "      <td>92</td>\n",
              "      <td>17.1</td>\n",
              "      <td>1</td>\n",
              "      <td>1.0</td>\n",
              "      <td>21</td>\n",
              "      <td>35</td>\n",
              "      <td>40</td>\n",
              "      <td>1</td>\n",
              "      <td>Y</td>\n",
              "    </tr>\n",
              "    <tr>\n",
              "      <th>1</th>\n",
              "      <td>Male</td>\n",
              "      <td>30</td>\n",
              "      <td>180</td>\n",
              "      <td>80</td>\n",
              "      <td>89.0</td>\n",
              "      <td>0.9</td>\n",
              "      <td>1.2</td>\n",
              "      <td>1</td>\n",
              "      <td>1</td>\n",
              "      <td>130</td>\n",
              "      <td>...</td>\n",
              "      <td>148</td>\n",
              "      <td>121</td>\n",
              "      <td>15.8</td>\n",
              "      <td>1</td>\n",
              "      <td>0.9</td>\n",
              "      <td>20</td>\n",
              "      <td>36</td>\n",
              "      <td>27</td>\n",
              "      <td>3</td>\n",
              "      <td>N</td>\n",
              "    </tr>\n",
              "    <tr>\n",
              "      <th>2</th>\n",
              "      <td>Male</td>\n",
              "      <td>40</td>\n",
              "      <td>165</td>\n",
              "      <td>75</td>\n",
              "      <td>91.0</td>\n",
              "      <td>1.2</td>\n",
              "      <td>1.5</td>\n",
              "      <td>1</td>\n",
              "      <td>1</td>\n",
              "      <td>120</td>\n",
              "      <td>...</td>\n",
              "      <td>74</td>\n",
              "      <td>104</td>\n",
              "      <td>15.8</td>\n",
              "      <td>1</td>\n",
              "      <td>0.9</td>\n",
              "      <td>47</td>\n",
              "      <td>32</td>\n",
              "      <td>68</td>\n",
              "      <td>1</td>\n",
              "      <td>N</td>\n",
              "    </tr>\n",
              "    <tr>\n",
              "      <th>3</th>\n",
              "      <td>Male</td>\n",
              "      <td>50</td>\n",
              "      <td>175</td>\n",
              "      <td>80</td>\n",
              "      <td>91.0</td>\n",
              "      <td>1.5</td>\n",
              "      <td>1.2</td>\n",
              "      <td>1</td>\n",
              "      <td>1</td>\n",
              "      <td>145</td>\n",
              "      <td>...</td>\n",
              "      <td>104</td>\n",
              "      <td>106</td>\n",
              "      <td>17.6</td>\n",
              "      <td>1</td>\n",
              "      <td>1.1</td>\n",
              "      <td>29</td>\n",
              "      <td>34</td>\n",
              "      <td>18</td>\n",
              "      <td>1</td>\n",
              "      <td>N</td>\n",
              "    </tr>\n",
              "    <tr>\n",
              "      <th>4</th>\n",
              "      <td>Male</td>\n",
              "      <td>50</td>\n",
              "      <td>165</td>\n",
              "      <td>60</td>\n",
              "      <td>80.0</td>\n",
              "      <td>1.0</td>\n",
              "      <td>1.2</td>\n",
              "      <td>1</td>\n",
              "      <td>1</td>\n",
              "      <td>138</td>\n",
              "      <td>...</td>\n",
              "      <td>117</td>\n",
              "      <td>104</td>\n",
              "      <td>13.8</td>\n",
              "      <td>1</td>\n",
              "      <td>0.8</td>\n",
              "      <td>19</td>\n",
              "      <td>12</td>\n",
              "      <td>25</td>\n",
              "      <td>1</td>\n",
              "      <td>N</td>\n",
              "    </tr>\n",
              "    <tr>\n",
              "      <th>...</th>\n",
              "      <td>...</td>\n",
              "      <td>...</td>\n",
              "      <td>...</td>\n",
              "      <td>...</td>\n",
              "      <td>...</td>\n",
              "      <td>...</td>\n",
              "      <td>...</td>\n",
              "      <td>...</td>\n",
              "      <td>...</td>\n",
              "      <td>...</td>\n",
              "      <td>...</td>\n",
              "      <td>...</td>\n",
              "      <td>...</td>\n",
              "      <td>...</td>\n",
              "      <td>...</td>\n",
              "      <td>...</td>\n",
              "      <td>...</td>\n",
              "      <td>...</td>\n",
              "      <td>...</td>\n",
              "      <td>...</td>\n",
              "      <td>...</td>\n",
              "    </tr>\n",
              "    <tr>\n",
              "      <th>991341</th>\n",
              "      <td>Male</td>\n",
              "      <td>45</td>\n",
              "      <td>175</td>\n",
              "      <td>80</td>\n",
              "      <td>92.1</td>\n",
              "      <td>1.5</td>\n",
              "      <td>1.5</td>\n",
              "      <td>1</td>\n",
              "      <td>1</td>\n",
              "      <td>114</td>\n",
              "      <td>...</td>\n",
              "      <td>125</td>\n",
              "      <td>132</td>\n",
              "      <td>15.0</td>\n",
              "      <td>1</td>\n",
              "      <td>1.0</td>\n",
              "      <td>26</td>\n",
              "      <td>36</td>\n",
              "      <td>27</td>\n",
              "      <td>1</td>\n",
              "      <td>N</td>\n",
              "    </tr>\n",
              "    <tr>\n",
              "      <th>991342</th>\n",
              "      <td>Male</td>\n",
              "      <td>35</td>\n",
              "      <td>170</td>\n",
              "      <td>75</td>\n",
              "      <td>86.0</td>\n",
              "      <td>1.0</td>\n",
              "      <td>1.5</td>\n",
              "      <td>1</td>\n",
              "      <td>1</td>\n",
              "      <td>119</td>\n",
              "      <td>...</td>\n",
              "      <td>84</td>\n",
              "      <td>45</td>\n",
              "      <td>15.8</td>\n",
              "      <td>1</td>\n",
              "      <td>1.1</td>\n",
              "      <td>14</td>\n",
              "      <td>17</td>\n",
              "      <td>15</td>\n",
              "      <td>1</td>\n",
              "      <td>N</td>\n",
              "    </tr>\n",
              "    <tr>\n",
              "      <th>991343</th>\n",
              "      <td>Female</td>\n",
              "      <td>40</td>\n",
              "      <td>155</td>\n",
              "      <td>50</td>\n",
              "      <td>68.0</td>\n",
              "      <td>1.0</td>\n",
              "      <td>0.7</td>\n",
              "      <td>1</td>\n",
              "      <td>1</td>\n",
              "      <td>110</td>\n",
              "      <td>...</td>\n",
              "      <td>77</td>\n",
              "      <td>157</td>\n",
              "      <td>14.3</td>\n",
              "      <td>1</td>\n",
              "      <td>0.8</td>\n",
              "      <td>30</td>\n",
              "      <td>27</td>\n",
              "      <td>17</td>\n",
              "      <td>3</td>\n",
              "      <td>Y</td>\n",
              "    </tr>\n",
              "    <tr>\n",
              "      <th>991344</th>\n",
              "      <td>Male</td>\n",
              "      <td>25</td>\n",
              "      <td>175</td>\n",
              "      <td>60</td>\n",
              "      <td>72.0</td>\n",
              "      <td>1.5</td>\n",
              "      <td>1.0</td>\n",
              "      <td>1</td>\n",
              "      <td>1</td>\n",
              "      <td>119</td>\n",
              "      <td>...</td>\n",
              "      <td>73</td>\n",
              "      <td>53</td>\n",
              "      <td>14.5</td>\n",
              "      <td>1</td>\n",
              "      <td>0.8</td>\n",
              "      <td>21</td>\n",
              "      <td>14</td>\n",
              "      <td>17</td>\n",
              "      <td>1</td>\n",
              "      <td>N</td>\n",
              "    </tr>\n",
              "    <tr>\n",
              "      <th>991345</th>\n",
              "      <td>Male</td>\n",
              "      <td>50</td>\n",
              "      <td>160</td>\n",
              "      <td>70</td>\n",
              "      <td>90.5</td>\n",
              "      <td>1.0</td>\n",
              "      <td>1.5</td>\n",
              "      <td>1</td>\n",
              "      <td>1</td>\n",
              "      <td>133</td>\n",
              "      <td>...</td>\n",
              "      <td>153</td>\n",
              "      <td>163</td>\n",
              "      <td>15.8</td>\n",
              "      <td>1</td>\n",
              "      <td>0.9</td>\n",
              "      <td>24</td>\n",
              "      <td>43</td>\n",
              "      <td>36</td>\n",
              "      <td>3</td>\n",
              "      <td>Y</td>\n",
              "    </tr>\n",
              "  </tbody>\n",
              "</table>\n",
              "<p>991346 rows × 24 columns</p>\n",
              "</div>"
            ],
            "text/plain": [
              "           sex  age  height  weight  waistline  sight_left  sight_right  \\\n",
              "0         Male   35     170      75       90.0         1.0          1.0   \n",
              "1         Male   30     180      80       89.0         0.9          1.2   \n",
              "2         Male   40     165      75       91.0         1.2          1.5   \n",
              "3         Male   50     175      80       91.0         1.5          1.2   \n",
              "4         Male   50     165      60       80.0         1.0          1.2   \n",
              "...        ...  ...     ...     ...        ...         ...          ...   \n",
              "991341    Male   45     175      80       92.1         1.5          1.5   \n",
              "991342    Male   35     170      75       86.0         1.0          1.5   \n",
              "991343  Female   40     155      50       68.0         1.0          0.7   \n",
              "991344    Male   25     175      60       72.0         1.5          1.0   \n",
              "991345    Male   50     160      70       90.5         1.0          1.5   \n",
              "\n",
              "        hear_left  hear_right  SBP  ...  LDL_chole  triglyceride  hemoglobin  \\\n",
              "0               1           1  120  ...        126            92        17.1   \n",
              "1               1           1  130  ...        148           121        15.8   \n",
              "2               1           1  120  ...         74           104        15.8   \n",
              "3               1           1  145  ...        104           106        17.6   \n",
              "4               1           1  138  ...        117           104        13.8   \n",
              "...           ...         ...  ...  ...        ...           ...         ...   \n",
              "991341          1           1  114  ...        125           132        15.0   \n",
              "991342          1           1  119  ...         84            45        15.8   \n",
              "991343          1           1  110  ...         77           157        14.3   \n",
              "991344          1           1  119  ...         73            53        14.5   \n",
              "991345          1           1  133  ...        153           163        15.8   \n",
              "\n",
              "        urine_protein  serum_creatinine  SGOT_AST  SGOT_ALT  gamma_GTP  \\\n",
              "0                   1               1.0        21        35         40   \n",
              "1                   1               0.9        20        36         27   \n",
              "2                   1               0.9        47        32         68   \n",
              "3                   1               1.1        29        34         18   \n",
              "4                   1               0.8        19        12         25   \n",
              "...               ...               ...       ...       ...        ...   \n",
              "991341              1               1.0        26        36         27   \n",
              "991342              1               1.1        14        17         15   \n",
              "991343              1               0.8        30        27         17   \n",
              "991344              1               0.8        21        14         17   \n",
              "991345              1               0.9        24        43         36   \n",
              "\n",
              "        SMK_stat_type_cd  DRK_YN  \n",
              "0                      1       Y  \n",
              "1                      3       N  \n",
              "2                      1       N  \n",
              "3                      1       N  \n",
              "4                      1       N  \n",
              "...                  ...     ...  \n",
              "991341                 1       N  \n",
              "991342                 1       N  \n",
              "991343                 3       Y  \n",
              "991344                 1       N  \n",
              "991345                 3       Y  \n",
              "\n",
              "[991346 rows x 24 columns]"
            ]
          },
          "execution_count": 8,
          "metadata": {},
          "output_type": "execute_result"
        }
      ],
      "source": [
        "df"
      ]
    },
    {
      "cell_type": "code",
      "execution_count": null,
      "metadata": {
        "colab": {
          "base_uri": "https://localhost:8080/"
        },
        "id": "u204jXV3FhH_",
        "outputId": "8e9cc419-1c45-4f7f-a699-fee44adb4140"
      },
      "outputs": [
        {
          "data": {
            "text/plain": [
              "(991346, 24)"
            ]
          },
          "execution_count": 9,
          "metadata": {},
          "output_type": "execute_result"
        }
      ],
      "source": [
        "df.shape"
      ]
    },
    {
      "cell_type": "code",
      "execution_count": null,
      "metadata": {
        "id": "HDBSHXGPFmtE"
      },
      "outputs": [],
      "source": [
        "col =df.columns"
      ]
    },
    {
      "cell_type": "code",
      "execution_count": null,
      "metadata": {
        "colab": {
          "base_uri": "https://localhost:8080/"
        },
        "id": "1DNd7WxxQwbs",
        "outputId": "bf7bb7ef-ceea-43f4-dcd2-01232d3f5d79"
      },
      "outputs": [
        {
          "name": "stdout",
          "output_type": "stream",
          "text": [
            "<class 'pandas.core.frame.DataFrame'>\n",
            "RangeIndex: 991346 entries, 0 to 991345\n",
            "Data columns (total 24 columns):\n",
            " #   Column            Non-Null Count   Dtype  \n",
            "---  ------            --------------   -----  \n",
            " 0   sex               991346 non-null  object \n",
            " 1   age               991346 non-null  int64  \n",
            " 2   height            991346 non-null  int64  \n",
            " 3   weight            991346 non-null  int64  \n",
            " 4   waistline         991346 non-null  float64\n",
            " 5   sight_left        991346 non-null  float64\n",
            " 6   sight_right       991346 non-null  float64\n",
            " 7   hear_left         991346 non-null  int64  \n",
            " 8   hear_right        991346 non-null  int64  \n",
            " 9   SBP               991346 non-null  int64  \n",
            " 10  DBP               991346 non-null  int64  \n",
            " 11  BLDS              991346 non-null  int64  \n",
            " 12  tot_chole         991346 non-null  int64  \n",
            " 13  HDL_chole         991346 non-null  int64  \n",
            " 14  LDL_chole         991346 non-null  int64  \n",
            " 15  triglyceride      991346 non-null  int64  \n",
            " 16  hemoglobin        991346 non-null  float64\n",
            " 17  urine_protein     991346 non-null  int64  \n",
            " 18  serum_creatinine  991346 non-null  float64\n",
            " 19  SGOT_AST          991346 non-null  int64  \n",
            " 20  SGOT_ALT          991346 non-null  int64  \n",
            " 21  gamma_GTP         991346 non-null  int64  \n",
            " 22  SMK_stat_type_cd  991346 non-null  int64  \n",
            " 23  DRK_YN            991346 non-null  object \n",
            "dtypes: float64(5), int64(17), object(2)\n",
            "memory usage: 181.5+ MB\n"
          ]
        }
      ],
      "source": [
        "df.info()"
      ]
    },
    {
      "cell_type": "markdown",
      "source": [
        "## Checking for null values"
      ],
      "metadata": {
        "id": "JMjWoAdKrcAJ"
      }
    },
    {
      "cell_type": "code",
      "execution_count": null,
      "metadata": {
        "colab": {
          "base_uri": "https://localhost:8080/"
        },
        "id": "NQIAFVBCgR3z",
        "outputId": "e6a3e43a-f581-4fe8-9a40-bf823f0f8afa"
      },
      "outputs": [
        {
          "data": {
            "text/plain": [
              "sex                 0\n",
              "age                 0\n",
              "height              0\n",
              "weight              0\n",
              "waistline           0\n",
              "sight_left          0\n",
              "sight_right         0\n",
              "hear_left           0\n",
              "hear_right          0\n",
              "SBP                 0\n",
              "DBP                 0\n",
              "BLDS                0\n",
              "tot_chole           0\n",
              "HDL_chole           0\n",
              "LDL_chole           0\n",
              "triglyceride        0\n",
              "hemoglobin          0\n",
              "urine_protein       0\n",
              "serum_creatinine    0\n",
              "SGOT_AST            0\n",
              "SGOT_ALT            0\n",
              "gamma_GTP           0\n",
              "SMK_stat_type_cd    0\n",
              "DRK_YN              0\n",
              "dtype: int64"
            ]
          },
          "execution_count": 12,
          "metadata": {},
          "output_type": "execute_result"
        }
      ],
      "source": [
        "df.isnull().sum()"
      ]
    },
    {
      "cell_type": "markdown",
      "source": [
        "Also as observed in the EDA file there are **no unknown values** in this dataset and hence imputation is not required."
      ],
      "metadata": {
        "id": "tCmmSZc4ri5N"
      }
    },
    {
      "cell_type": "markdown",
      "source": [
        "##Encoding\n"
      ],
      "metadata": {
        "id": "cyrCqb--rmOP"
      }
    },
    {
      "cell_type": "markdown",
      "source": [
        "### Label Encoding\n",
        "Here columns 'Sex',  'SMK_stat_type_cd',  'DRK_YN' have values with string data-type and will be label encoded."
      ],
      "metadata": {
        "id": "uvA1IzOxrnE3"
      }
    },
    {
      "cell_type": "code",
      "execution_count": null,
      "metadata": {
        "colab": {
          "base_uri": "https://localhost:8080/"
        },
        "id": "hkKo8tSOMfk5",
        "outputId": "c7a469fe-95ed-4532-e743-3ec395caa3b5"
      },
      "outputs": [
        {
          "data": {
            "text/plain": [
              "array([1, 0])"
            ]
          },
          "execution_count": 13,
          "metadata": {},
          "output_type": "execute_result"
        }
      ],
      "source": [
        "from sklearn.preprocessing import LabelEncoder\n",
        "le = LabelEncoder()\n",
        "df[\"sex\"] = le.fit_transform(df[\"sex\"])\n",
        "df[\"sex\"].unique()"
      ]
    },
    {
      "cell_type": "code",
      "execution_count": null,
      "metadata": {
        "colab": {
          "base_uri": "https://localhost:8080/"
        },
        "id": "Qrj68F8YgrWY",
        "outputId": "015c409a-45d8-4543-cdb8-3dcd005c3665"
      },
      "outputs": [
        {
          "data": {
            "text/plain": [
              "array([1, 0])"
            ]
          },
          "execution_count": 14,
          "metadata": {},
          "output_type": "execute_result"
        }
      ],
      "source": [
        "df[\"DRK_YN\"] = le.fit_transform(df[\"DRK_YN\"])\n",
        "df[\"DRK_YN\"].unique()"
      ]
    },
    {
      "cell_type": "code",
      "execution_count": null,
      "metadata": {
        "colab": {
          "base_uri": "https://localhost:8080/",
          "height": 443
        },
        "id": "JHn2Xq47PwbR",
        "outputId": "85246f16-c1b6-49b9-9afb-4fa43c80263e"
      },
      "outputs": [
        {
          "data": {
            "text/html": [
              "<div>\n",
              "<style scoped>\n",
              "    .dataframe tbody tr th:only-of-type {\n",
              "        vertical-align: middle;\n",
              "    }\n",
              "\n",
              "    .dataframe tbody tr th {\n",
              "        vertical-align: top;\n",
              "    }\n",
              "\n",
              "    .dataframe thead th {\n",
              "        text-align: right;\n",
              "    }\n",
              "</style>\n",
              "<table border=\"1\" class=\"dataframe\">\n",
              "  <thead>\n",
              "    <tr style=\"text-align: right;\">\n",
              "      <th></th>\n",
              "      <th>sex</th>\n",
              "      <th>age</th>\n",
              "      <th>height</th>\n",
              "      <th>weight</th>\n",
              "      <th>waistline</th>\n",
              "      <th>sight_left</th>\n",
              "      <th>sight_right</th>\n",
              "      <th>hear_left</th>\n",
              "      <th>hear_right</th>\n",
              "      <th>SBP</th>\n",
              "      <th>...</th>\n",
              "      <th>LDL_chole</th>\n",
              "      <th>triglyceride</th>\n",
              "      <th>hemoglobin</th>\n",
              "      <th>urine_protein</th>\n",
              "      <th>serum_creatinine</th>\n",
              "      <th>SGOT_AST</th>\n",
              "      <th>SGOT_ALT</th>\n",
              "      <th>gamma_GTP</th>\n",
              "      <th>SMK_stat_type_cd</th>\n",
              "      <th>DRK_YN</th>\n",
              "    </tr>\n",
              "  </thead>\n",
              "  <tbody>\n",
              "    <tr>\n",
              "      <th>0</th>\n",
              "      <td>1</td>\n",
              "      <td>35</td>\n",
              "      <td>170</td>\n",
              "      <td>75</td>\n",
              "      <td>90.0</td>\n",
              "      <td>1.0</td>\n",
              "      <td>1.0</td>\n",
              "      <td>1</td>\n",
              "      <td>1</td>\n",
              "      <td>120</td>\n",
              "      <td>...</td>\n",
              "      <td>126</td>\n",
              "      <td>92</td>\n",
              "      <td>17.1</td>\n",
              "      <td>1</td>\n",
              "      <td>1.0</td>\n",
              "      <td>21</td>\n",
              "      <td>35</td>\n",
              "      <td>40</td>\n",
              "      <td>1</td>\n",
              "      <td>1</td>\n",
              "    </tr>\n",
              "    <tr>\n",
              "      <th>1</th>\n",
              "      <td>1</td>\n",
              "      <td>30</td>\n",
              "      <td>180</td>\n",
              "      <td>80</td>\n",
              "      <td>89.0</td>\n",
              "      <td>0.9</td>\n",
              "      <td>1.2</td>\n",
              "      <td>1</td>\n",
              "      <td>1</td>\n",
              "      <td>130</td>\n",
              "      <td>...</td>\n",
              "      <td>148</td>\n",
              "      <td>121</td>\n",
              "      <td>15.8</td>\n",
              "      <td>1</td>\n",
              "      <td>0.9</td>\n",
              "      <td>20</td>\n",
              "      <td>36</td>\n",
              "      <td>27</td>\n",
              "      <td>3</td>\n",
              "      <td>0</td>\n",
              "    </tr>\n",
              "    <tr>\n",
              "      <th>2</th>\n",
              "      <td>1</td>\n",
              "      <td>40</td>\n",
              "      <td>165</td>\n",
              "      <td>75</td>\n",
              "      <td>91.0</td>\n",
              "      <td>1.2</td>\n",
              "      <td>1.5</td>\n",
              "      <td>1</td>\n",
              "      <td>1</td>\n",
              "      <td>120</td>\n",
              "      <td>...</td>\n",
              "      <td>74</td>\n",
              "      <td>104</td>\n",
              "      <td>15.8</td>\n",
              "      <td>1</td>\n",
              "      <td>0.9</td>\n",
              "      <td>47</td>\n",
              "      <td>32</td>\n",
              "      <td>68</td>\n",
              "      <td>1</td>\n",
              "      <td>0</td>\n",
              "    </tr>\n",
              "    <tr>\n",
              "      <th>3</th>\n",
              "      <td>1</td>\n",
              "      <td>50</td>\n",
              "      <td>175</td>\n",
              "      <td>80</td>\n",
              "      <td>91.0</td>\n",
              "      <td>1.5</td>\n",
              "      <td>1.2</td>\n",
              "      <td>1</td>\n",
              "      <td>1</td>\n",
              "      <td>145</td>\n",
              "      <td>...</td>\n",
              "      <td>104</td>\n",
              "      <td>106</td>\n",
              "      <td>17.6</td>\n",
              "      <td>1</td>\n",
              "      <td>1.1</td>\n",
              "      <td>29</td>\n",
              "      <td>34</td>\n",
              "      <td>18</td>\n",
              "      <td>1</td>\n",
              "      <td>0</td>\n",
              "    </tr>\n",
              "    <tr>\n",
              "      <th>4</th>\n",
              "      <td>1</td>\n",
              "      <td>50</td>\n",
              "      <td>165</td>\n",
              "      <td>60</td>\n",
              "      <td>80.0</td>\n",
              "      <td>1.0</td>\n",
              "      <td>1.2</td>\n",
              "      <td>1</td>\n",
              "      <td>1</td>\n",
              "      <td>138</td>\n",
              "      <td>...</td>\n",
              "      <td>117</td>\n",
              "      <td>104</td>\n",
              "      <td>13.8</td>\n",
              "      <td>1</td>\n",
              "      <td>0.8</td>\n",
              "      <td>19</td>\n",
              "      <td>12</td>\n",
              "      <td>25</td>\n",
              "      <td>1</td>\n",
              "      <td>0</td>\n",
              "    </tr>\n",
              "    <tr>\n",
              "      <th>...</th>\n",
              "      <td>...</td>\n",
              "      <td>...</td>\n",
              "      <td>...</td>\n",
              "      <td>...</td>\n",
              "      <td>...</td>\n",
              "      <td>...</td>\n",
              "      <td>...</td>\n",
              "      <td>...</td>\n",
              "      <td>...</td>\n",
              "      <td>...</td>\n",
              "      <td>...</td>\n",
              "      <td>...</td>\n",
              "      <td>...</td>\n",
              "      <td>...</td>\n",
              "      <td>...</td>\n",
              "      <td>...</td>\n",
              "      <td>...</td>\n",
              "      <td>...</td>\n",
              "      <td>...</td>\n",
              "      <td>...</td>\n",
              "      <td>...</td>\n",
              "    </tr>\n",
              "    <tr>\n",
              "      <th>991341</th>\n",
              "      <td>1</td>\n",
              "      <td>45</td>\n",
              "      <td>175</td>\n",
              "      <td>80</td>\n",
              "      <td>92.1</td>\n",
              "      <td>1.5</td>\n",
              "      <td>1.5</td>\n",
              "      <td>1</td>\n",
              "      <td>1</td>\n",
              "      <td>114</td>\n",
              "      <td>...</td>\n",
              "      <td>125</td>\n",
              "      <td>132</td>\n",
              "      <td>15.0</td>\n",
              "      <td>1</td>\n",
              "      <td>1.0</td>\n",
              "      <td>26</td>\n",
              "      <td>36</td>\n",
              "      <td>27</td>\n",
              "      <td>1</td>\n",
              "      <td>0</td>\n",
              "    </tr>\n",
              "    <tr>\n",
              "      <th>991342</th>\n",
              "      <td>1</td>\n",
              "      <td>35</td>\n",
              "      <td>170</td>\n",
              "      <td>75</td>\n",
              "      <td>86.0</td>\n",
              "      <td>1.0</td>\n",
              "      <td>1.5</td>\n",
              "      <td>1</td>\n",
              "      <td>1</td>\n",
              "      <td>119</td>\n",
              "      <td>...</td>\n",
              "      <td>84</td>\n",
              "      <td>45</td>\n",
              "      <td>15.8</td>\n",
              "      <td>1</td>\n",
              "      <td>1.1</td>\n",
              "      <td>14</td>\n",
              "      <td>17</td>\n",
              "      <td>15</td>\n",
              "      <td>1</td>\n",
              "      <td>0</td>\n",
              "    </tr>\n",
              "    <tr>\n",
              "      <th>991343</th>\n",
              "      <td>0</td>\n",
              "      <td>40</td>\n",
              "      <td>155</td>\n",
              "      <td>50</td>\n",
              "      <td>68.0</td>\n",
              "      <td>1.0</td>\n",
              "      <td>0.7</td>\n",
              "      <td>1</td>\n",
              "      <td>1</td>\n",
              "      <td>110</td>\n",
              "      <td>...</td>\n",
              "      <td>77</td>\n",
              "      <td>157</td>\n",
              "      <td>14.3</td>\n",
              "      <td>1</td>\n",
              "      <td>0.8</td>\n",
              "      <td>30</td>\n",
              "      <td>27</td>\n",
              "      <td>17</td>\n",
              "      <td>3</td>\n",
              "      <td>1</td>\n",
              "    </tr>\n",
              "    <tr>\n",
              "      <th>991344</th>\n",
              "      <td>1</td>\n",
              "      <td>25</td>\n",
              "      <td>175</td>\n",
              "      <td>60</td>\n",
              "      <td>72.0</td>\n",
              "      <td>1.5</td>\n",
              "      <td>1.0</td>\n",
              "      <td>1</td>\n",
              "      <td>1</td>\n",
              "      <td>119</td>\n",
              "      <td>...</td>\n",
              "      <td>73</td>\n",
              "      <td>53</td>\n",
              "      <td>14.5</td>\n",
              "      <td>1</td>\n",
              "      <td>0.8</td>\n",
              "      <td>21</td>\n",
              "      <td>14</td>\n",
              "      <td>17</td>\n",
              "      <td>1</td>\n",
              "      <td>0</td>\n",
              "    </tr>\n",
              "    <tr>\n",
              "      <th>991345</th>\n",
              "      <td>1</td>\n",
              "      <td>50</td>\n",
              "      <td>160</td>\n",
              "      <td>70</td>\n",
              "      <td>90.5</td>\n",
              "      <td>1.0</td>\n",
              "      <td>1.5</td>\n",
              "      <td>1</td>\n",
              "      <td>1</td>\n",
              "      <td>133</td>\n",
              "      <td>...</td>\n",
              "      <td>153</td>\n",
              "      <td>163</td>\n",
              "      <td>15.8</td>\n",
              "      <td>1</td>\n",
              "      <td>0.9</td>\n",
              "      <td>24</td>\n",
              "      <td>43</td>\n",
              "      <td>36</td>\n",
              "      <td>3</td>\n",
              "      <td>1</td>\n",
              "    </tr>\n",
              "  </tbody>\n",
              "</table>\n",
              "<p>991346 rows × 24 columns</p>\n",
              "</div>"
            ],
            "text/plain": [
              "        sex  age  height  weight  waistline  sight_left  sight_right  \\\n",
              "0         1   35     170      75       90.0         1.0          1.0   \n",
              "1         1   30     180      80       89.0         0.9          1.2   \n",
              "2         1   40     165      75       91.0         1.2          1.5   \n",
              "3         1   50     175      80       91.0         1.5          1.2   \n",
              "4         1   50     165      60       80.0         1.0          1.2   \n",
              "...     ...  ...     ...     ...        ...         ...          ...   \n",
              "991341    1   45     175      80       92.1         1.5          1.5   \n",
              "991342    1   35     170      75       86.0         1.0          1.5   \n",
              "991343    0   40     155      50       68.0         1.0          0.7   \n",
              "991344    1   25     175      60       72.0         1.5          1.0   \n",
              "991345    1   50     160      70       90.5         1.0          1.5   \n",
              "\n",
              "        hear_left  hear_right  SBP  ...  LDL_chole  triglyceride  hemoglobin  \\\n",
              "0               1           1  120  ...        126            92        17.1   \n",
              "1               1           1  130  ...        148           121        15.8   \n",
              "2               1           1  120  ...         74           104        15.8   \n",
              "3               1           1  145  ...        104           106        17.6   \n",
              "4               1           1  138  ...        117           104        13.8   \n",
              "...           ...         ...  ...  ...        ...           ...         ...   \n",
              "991341          1           1  114  ...        125           132        15.0   \n",
              "991342          1           1  119  ...         84            45        15.8   \n",
              "991343          1           1  110  ...         77           157        14.3   \n",
              "991344          1           1  119  ...         73            53        14.5   \n",
              "991345          1           1  133  ...        153           163        15.8   \n",
              "\n",
              "        urine_protein  serum_creatinine  SGOT_AST  SGOT_ALT  gamma_GTP  \\\n",
              "0                   1               1.0        21        35         40   \n",
              "1                   1               0.9        20        36         27   \n",
              "2                   1               0.9        47        32         68   \n",
              "3                   1               1.1        29        34         18   \n",
              "4                   1               0.8        19        12         25   \n",
              "...               ...               ...       ...       ...        ...   \n",
              "991341              1               1.0        26        36         27   \n",
              "991342              1               1.1        14        17         15   \n",
              "991343              1               0.8        30        27         17   \n",
              "991344              1               0.8        21        14         17   \n",
              "991345              1               0.9        24        43         36   \n",
              "\n",
              "        SMK_stat_type_cd  DRK_YN  \n",
              "0                      1       1  \n",
              "1                      3       0  \n",
              "2                      1       0  \n",
              "3                      1       0  \n",
              "4                      1       0  \n",
              "...                  ...     ...  \n",
              "991341                 1       0  \n",
              "991342                 1       0  \n",
              "991343                 3       1  \n",
              "991344                 1       0  \n",
              "991345                 3       1  \n",
              "\n",
              "[991346 rows x 24 columns]"
            ]
          },
          "execution_count": 15,
          "metadata": {},
          "output_type": "execute_result"
        }
      ],
      "source": [
        "df"
      ]
    },
    {
      "cell_type": "markdown",
      "source": [
        "## Correlation Matrix"
      ],
      "metadata": {
        "id": "UJ8fHlIqrslg"
      }
    },
    {
      "cell_type": "code",
      "execution_count": null,
      "metadata": {
        "colab": {
          "base_uri": "https://localhost:8080/",
          "height": 851
        },
        "id": "TGXEUUBZ319x",
        "outputId": "4cc2d992-9a2a-4d89-9b60-5267250d4fe7"
      },
      "outputs": [
        {
          "data": {
            "text/html": [
              "<div>\n",
              "<style scoped>\n",
              "    .dataframe tbody tr th:only-of-type {\n",
              "        vertical-align: middle;\n",
              "    }\n",
              "\n",
              "    .dataframe tbody tr th {\n",
              "        vertical-align: top;\n",
              "    }\n",
              "\n",
              "    .dataframe thead th {\n",
              "        text-align: right;\n",
              "    }\n",
              "</style>\n",
              "<table border=\"1\" class=\"dataframe\">\n",
              "  <thead>\n",
              "    <tr style=\"text-align: right;\">\n",
              "      <th></th>\n",
              "      <th>sex</th>\n",
              "      <th>age</th>\n",
              "      <th>height</th>\n",
              "      <th>weight</th>\n",
              "      <th>waistline</th>\n",
              "      <th>sight_left</th>\n",
              "      <th>sight_right</th>\n",
              "      <th>hear_left</th>\n",
              "      <th>hear_right</th>\n",
              "      <th>SBP</th>\n",
              "      <th>...</th>\n",
              "      <th>LDL_chole</th>\n",
              "      <th>triglyceride</th>\n",
              "      <th>hemoglobin</th>\n",
              "      <th>urine_protein</th>\n",
              "      <th>serum_creatinine</th>\n",
              "      <th>SGOT_AST</th>\n",
              "      <th>SGOT_ALT</th>\n",
              "      <th>gamma_GTP</th>\n",
              "      <th>SMK_stat_type_cd</th>\n",
              "      <th>DRK_YN</th>\n",
              "    </tr>\n",
              "  </thead>\n",
              "  <tbody>\n",
              "    <tr>\n",
              "      <th>sex</th>\n",
              "      <td>1.000000</td>\n",
              "      <td>-0.083225</td>\n",
              "      <td>0.722774</td>\n",
              "      <td>0.581707</td>\n",
              "      <td>0.344725</td>\n",
              "      <td>0.099016</td>\n",
              "      <td>0.101522</td>\n",
              "      <td>0.002926</td>\n",
              "      <td>-0.000751</td>\n",
              "      <td>0.176245</td>\n",
              "      <td>...</td>\n",
              "      <td>-0.005210</td>\n",
              "      <td>0.216283</td>\n",
              "      <td>0.669417</td>\n",
              "      <td>0.020184</td>\n",
              "      <td>0.245956</td>\n",
              "      <td>0.092943</td>\n",
              "      <td>0.196751</td>\n",
              "      <td>0.257229</td>\n",
              "      <td>0.591004</td>\n",
              "      <td>0.368726</td>\n",
              "    </tr>\n",
              "    <tr>\n",
              "      <th>age</th>\n",
              "      <td>-0.083225</td>\n",
              "      <td>1.000000</td>\n",
              "      <td>-0.398501</td>\n",
              "      <td>-0.195337</td>\n",
              "      <td>0.127170</td>\n",
              "      <td>-0.172096</td>\n",
              "      <td>-0.167684</td>\n",
              "      <td>0.203021</td>\n",
              "      <td>0.198693</td>\n",
              "      <td>0.265530</td>\n",
              "      <td>...</td>\n",
              "      <td>0.029497</td>\n",
              "      <td>0.043549</td>\n",
              "      <td>-0.173081</td>\n",
              "      <td>0.041497</td>\n",
              "      <td>0.022819</td>\n",
              "      <td>0.059408</td>\n",
              "      <td>-0.020506</td>\n",
              "      <td>0.017391</td>\n",
              "      <td>-0.126031</td>\n",
              "      <td>-0.284587</td>\n",
              "    </tr>\n",
              "    <tr>\n",
              "      <th>height</th>\n",
              "      <td>0.722774</td>\n",
              "      <td>-0.398501</td>\n",
              "      <td>1.000000</td>\n",
              "      <td>0.668823</td>\n",
              "      <td>0.263945</td>\n",
              "      <td>0.139141</td>\n",
              "      <td>0.138529</td>\n",
              "      <td>-0.081159</td>\n",
              "      <td>-0.082456</td>\n",
              "      <td>0.035030</td>\n",
              "      <td>...</td>\n",
              "      <td>-0.015450</td>\n",
              "      <td>0.137611</td>\n",
              "      <td>0.531898</td>\n",
              "      <td>0.002298</td>\n",
              "      <td>0.171256</td>\n",
              "      <td>0.039203</td>\n",
              "      <td>0.144842</td>\n",
              "      <td>0.162340</td>\n",
              "      <td>0.467317</td>\n",
              "      <td>0.374566</td>\n",
              "    </tr>\n",
              "    <tr>\n",
              "      <th>weight</th>\n",
              "      <td>0.581707</td>\n",
              "      <td>-0.195337</td>\n",
              "      <td>0.668823</td>\n",
              "      <td>1.000000</td>\n",
              "      <td>0.637173</td>\n",
              "      <td>0.088901</td>\n",
              "      <td>0.088707</td>\n",
              "      <td>-0.044498</td>\n",
              "      <td>-0.045709</td>\n",
              "      <td>0.250770</td>\n",
              "      <td>...</td>\n",
              "      <td>0.067859</td>\n",
              "      <td>0.283774</td>\n",
              "      <td>0.499491</td>\n",
              "      <td>0.029281</td>\n",
              "      <td>0.153885</td>\n",
              "      <td>0.099652</td>\n",
              "      <td>0.276440</td>\n",
              "      <td>0.221881</td>\n",
              "      <td>0.366499</td>\n",
              "      <td>0.264282</td>\n",
              "    </tr>\n",
              "    <tr>\n",
              "      <th>waistline</th>\n",
              "      <td>0.344725</td>\n",
              "      <td>0.127170</td>\n",
              "      <td>0.263945</td>\n",
              "      <td>0.637173</td>\n",
              "      <td>1.000000</td>\n",
              "      <td>0.004511</td>\n",
              "      <td>0.006158</td>\n",
              "      <td>0.033224</td>\n",
              "      <td>0.031012</td>\n",
              "      <td>0.272323</td>\n",
              "      <td>...</td>\n",
              "      <td>0.063416</td>\n",
              "      <td>0.249436</td>\n",
              "      <td>0.291730</td>\n",
              "      <td>0.043132</td>\n",
              "      <td>0.098421</td>\n",
              "      <td>0.096858</td>\n",
              "      <td>0.212267</td>\n",
              "      <td>0.186988</td>\n",
              "      <td>0.205485</td>\n",
              "      <td>0.092993</td>\n",
              "    </tr>\n",
              "    <tr>\n",
              "      <th>sight_left</th>\n",
              "      <td>0.099016</td>\n",
              "      <td>-0.172096</td>\n",
              "      <td>0.139141</td>\n",
              "      <td>0.088901</td>\n",
              "      <td>0.004511</td>\n",
              "      <td>1.000000</td>\n",
              "      <td>0.307985</td>\n",
              "      <td>-0.039428</td>\n",
              "      <td>-0.040998</td>\n",
              "      <td>-0.035617</td>\n",
              "      <td>...</td>\n",
              "      <td>0.003013</td>\n",
              "      <td>0.010599</td>\n",
              "      <td>0.085896</td>\n",
              "      <td>-0.010253</td>\n",
              "      <td>0.020309</td>\n",
              "      <td>-0.005427</td>\n",
              "      <td>0.018815</td>\n",
              "      <td>0.013566</td>\n",
              "      <td>0.064194</td>\n",
              "      <td>0.077379</td>\n",
              "    </tr>\n",
              "    <tr>\n",
              "      <th>sight_right</th>\n",
              "      <td>0.101522</td>\n",
              "      <td>-0.167684</td>\n",
              "      <td>0.138529</td>\n",
              "      <td>0.088707</td>\n",
              "      <td>0.006158</td>\n",
              "      <td>0.307985</td>\n",
              "      <td>1.000000</td>\n",
              "      <td>-0.040764</td>\n",
              "      <td>-0.038895</td>\n",
              "      <td>-0.033994</td>\n",
              "      <td>...</td>\n",
              "      <td>0.002155</td>\n",
              "      <td>0.012265</td>\n",
              "      <td>0.086847</td>\n",
              "      <td>-0.010897</td>\n",
              "      <td>0.021447</td>\n",
              "      <td>-0.004600</td>\n",
              "      <td>0.018920</td>\n",
              "      <td>0.016491</td>\n",
              "      <td>0.065051</td>\n",
              "      <td>0.074806</td>\n",
              "    </tr>\n",
              "    <tr>\n",
              "      <th>hear_left</th>\n",
              "      <td>0.002926</td>\n",
              "      <td>0.203021</td>\n",
              "      <td>-0.081159</td>\n",
              "      <td>-0.044498</td>\n",
              "      <td>0.033224</td>\n",
              "      <td>-0.039428</td>\n",
              "      <td>-0.040764</td>\n",
              "      <td>1.000000</td>\n",
              "      <td>0.536890</td>\n",
              "      <td>0.056065</td>\n",
              "      <td>...</td>\n",
              "      <td>-0.014621</td>\n",
              "      <td>0.002095</td>\n",
              "      <td>-0.036058</td>\n",
              "      <td>0.019754</td>\n",
              "      <td>0.015254</td>\n",
              "      <td>0.011283</td>\n",
              "      <td>-0.007907</td>\n",
              "      <td>0.002991</td>\n",
              "      <td>-0.021245</td>\n",
              "      <td>-0.058337</td>\n",
              "    </tr>\n",
              "    <tr>\n",
              "      <th>hear_right</th>\n",
              "      <td>-0.000751</td>\n",
              "      <td>0.198693</td>\n",
              "      <td>-0.082456</td>\n",
              "      <td>-0.045709</td>\n",
              "      <td>0.031012</td>\n",
              "      <td>-0.040998</td>\n",
              "      <td>-0.038895</td>\n",
              "      <td>0.536890</td>\n",
              "      <td>1.000000</td>\n",
              "      <td>0.057436</td>\n",
              "      <td>...</td>\n",
              "      <td>-0.013438</td>\n",
              "      <td>0.002155</td>\n",
              "      <td>-0.036703</td>\n",
              "      <td>0.018264</td>\n",
              "      <td>0.012959</td>\n",
              "      <td>0.010763</td>\n",
              "      <td>-0.008687</td>\n",
              "      <td>0.003548</td>\n",
              "      <td>-0.022330</td>\n",
              "      <td>-0.058230</td>\n",
              "    </tr>\n",
              "    <tr>\n",
              "      <th>SBP</th>\n",
              "      <td>0.176245</td>\n",
              "      <td>0.265530</td>\n",
              "      <td>0.035030</td>\n",
              "      <td>0.250770</td>\n",
              "      <td>0.272323</td>\n",
              "      <td>-0.035617</td>\n",
              "      <td>-0.033994</td>\n",
              "      <td>0.056065</td>\n",
              "      <td>0.057436</td>\n",
              "      <td>1.000000</td>\n",
              "      <td>...</td>\n",
              "      <td>0.033619</td>\n",
              "      <td>0.186003</td>\n",
              "      <td>0.166530</td>\n",
              "      <td>0.063518</td>\n",
              "      <td>0.062605</td>\n",
              "      <td>0.081478</td>\n",
              "      <td>0.117613</td>\n",
              "      <td>0.161434</td>\n",
              "      <td>0.084918</td>\n",
              "      <td>0.033149</td>\n",
              "    </tr>\n",
              "    <tr>\n",
              "      <th>DBP</th>\n",
              "      <td>0.199202</td>\n",
              "      <td>0.108847</td>\n",
              "      <td>0.108780</td>\n",
              "      <td>0.277891</td>\n",
              "      <td>0.240890</td>\n",
              "      <td>-0.001209</td>\n",
              "      <td>-0.000568</td>\n",
              "      <td>0.006893</td>\n",
              "      <td>0.007524</td>\n",
              "      <td>0.741131</td>\n",
              "      <td>...</td>\n",
              "      <td>0.066984</td>\n",
              "      <td>0.198651</td>\n",
              "      <td>0.241980</td>\n",
              "      <td>0.046054</td>\n",
              "      <td>0.057053</td>\n",
              "      <td>0.078555</td>\n",
              "      <td>0.131320</td>\n",
              "      <td>0.175610</td>\n",
              "      <td>0.126849</td>\n",
              "      <td>0.100876</td>\n",
              "    </tr>\n",
              "    <tr>\n",
              "      <th>BLDS</th>\n",
              "      <td>0.118005</td>\n",
              "      <td>0.195796</td>\n",
              "      <td>0.021266</td>\n",
              "      <td>0.138587</td>\n",
              "      <td>0.175519</td>\n",
              "      <td>-0.034817</td>\n",
              "      <td>-0.036893</td>\n",
              "      <td>0.039776</td>\n",
              "      <td>0.040905</td>\n",
              "      <td>0.183141</td>\n",
              "      <td>...</td>\n",
              "      <td>-0.029736</td>\n",
              "      <td>0.204747</td>\n",
              "      <td>0.101712</td>\n",
              "      <td>0.113215</td>\n",
              "      <td>0.043542</td>\n",
              "      <td>0.067913</td>\n",
              "      <td>0.112182</td>\n",
              "      <td>0.168971</td>\n",
              "      <td>0.086490</td>\n",
              "      <td>0.014713</td>\n",
              "    </tr>\n",
              "    <tr>\n",
              "      <th>tot_chole</th>\n",
              "      <td>-0.022444</td>\n",
              "      <td>0.011446</td>\n",
              "      <td>-0.023240</td>\n",
              "      <td>0.063238</td>\n",
              "      <td>0.063201</td>\n",
              "      <td>0.004371</td>\n",
              "      <td>0.003437</td>\n",
              "      <td>-0.024342</td>\n",
              "      <td>-0.022866</td>\n",
              "      <td>0.068557</td>\n",
              "      <td>...</td>\n",
              "      <td>0.877367</td>\n",
              "      <td>0.270683</td>\n",
              "      <td>0.121272</td>\n",
              "      <td>-0.005416</td>\n",
              "      <td>-0.005976</td>\n",
              "      <td>0.032410</td>\n",
              "      <td>0.075957</td>\n",
              "      <td>0.094537</td>\n",
              "      <td>0.011833</td>\n",
              "      <td>0.019720</td>\n",
              "    </tr>\n",
              "    <tr>\n",
              "      <th>HDL_chole</th>\n",
              "      <td>-0.256613</td>\n",
              "      <td>-0.104624</td>\n",
              "      <td>-0.148599</td>\n",
              "      <td>-0.287688</td>\n",
              "      <td>-0.253988</td>\n",
              "      <td>-0.004224</td>\n",
              "      <td>-0.006259</td>\n",
              "      <td>-0.029464</td>\n",
              "      <td>-0.028046</td>\n",
              "      <td>-0.111772</td>\n",
              "      <td>...</td>\n",
              "      <td>0.022089</td>\n",
              "      <td>-0.268366</td>\n",
              "      <td>-0.181865</td>\n",
              "      <td>-0.021816</td>\n",
              "      <td>-0.083897</td>\n",
              "      <td>-0.034110</td>\n",
              "      <td>-0.117597</td>\n",
              "      <td>-0.055709</td>\n",
              "      <td>-0.161031</td>\n",
              "      <td>0.042514</td>\n",
              "    </tr>\n",
              "    <tr>\n",
              "      <th>LDL_chole</th>\n",
              "      <td>-0.005210</td>\n",
              "      <td>0.029497</td>\n",
              "      <td>-0.015450</td>\n",
              "      <td>0.067859</td>\n",
              "      <td>0.063416</td>\n",
              "      <td>0.003013</td>\n",
              "      <td>0.002155</td>\n",
              "      <td>-0.014621</td>\n",
              "      <td>-0.013438</td>\n",
              "      <td>0.033619</td>\n",
              "      <td>...</td>\n",
              "      <td>1.000000</td>\n",
              "      <td>0.029571</td>\n",
              "      <td>0.101646</td>\n",
              "      <td>-0.015287</td>\n",
              "      <td>0.002401</td>\n",
              "      <td>0.001996</td>\n",
              "      <td>0.047034</td>\n",
              "      <td>-0.008544</td>\n",
              "      <td>-0.012315</td>\n",
              "      <td>-0.043693</td>\n",
              "    </tr>\n",
              "    <tr>\n",
              "      <th>triglyceride</th>\n",
              "      <td>0.216283</td>\n",
              "      <td>0.043549</td>\n",
              "      <td>0.137611</td>\n",
              "      <td>0.283774</td>\n",
              "      <td>0.249436</td>\n",
              "      <td>0.010599</td>\n",
              "      <td>0.012265</td>\n",
              "      <td>0.002095</td>\n",
              "      <td>0.002155</td>\n",
              "      <td>0.186003</td>\n",
              "      <td>...</td>\n",
              "      <td>0.029571</td>\n",
              "      <td>1.000000</td>\n",
              "      <td>0.241645</td>\n",
              "      <td>0.042962</td>\n",
              "      <td>0.060193</td>\n",
              "      <td>0.106260</td>\n",
              "      <td>0.187614</td>\n",
              "      <td>0.299027</td>\n",
              "      <td>0.216026</td>\n",
              "      <td>0.104398</td>\n",
              "    </tr>\n",
              "    <tr>\n",
              "      <th>hemoglobin</th>\n",
              "      <td>0.669417</td>\n",
              "      <td>-0.173081</td>\n",
              "      <td>0.531898</td>\n",
              "      <td>0.499491</td>\n",
              "      <td>0.291730</td>\n",
              "      <td>0.085896</td>\n",
              "      <td>0.086847</td>\n",
              "      <td>-0.036058</td>\n",
              "      <td>-0.036703</td>\n",
              "      <td>0.166530</td>\n",
              "      <td>...</td>\n",
              "      <td>0.101646</td>\n",
              "      <td>0.241645</td>\n",
              "      <td>1.000000</td>\n",
              "      <td>0.003793</td>\n",
              "      <td>0.139285</td>\n",
              "      <td>0.098892</td>\n",
              "      <td>0.229318</td>\n",
              "      <td>0.226218</td>\n",
              "      <td>0.453385</td>\n",
              "      <td>0.299341</td>\n",
              "    </tr>\n",
              "    <tr>\n",
              "      <th>urine_protein</th>\n",
              "      <td>0.020184</td>\n",
              "      <td>0.041497</td>\n",
              "      <td>0.002298</td>\n",
              "      <td>0.029281</td>\n",
              "      <td>0.043132</td>\n",
              "      <td>-0.010253</td>\n",
              "      <td>-0.010897</td>\n",
              "      <td>0.019754</td>\n",
              "      <td>0.018264</td>\n",
              "      <td>0.063518</td>\n",
              "      <td>...</td>\n",
              "      <td>-0.015287</td>\n",
              "      <td>0.042962</td>\n",
              "      <td>0.003793</td>\n",
              "      <td>1.000000</td>\n",
              "      <td>0.086814</td>\n",
              "      <td>0.034656</td>\n",
              "      <td>0.030689</td>\n",
              "      <td>0.049398</td>\n",
              "      <td>0.015263</td>\n",
              "      <td>-0.003125</td>\n",
              "    </tr>\n",
              "    <tr>\n",
              "      <th>serum_creatinine</th>\n",
              "      <td>0.245956</td>\n",
              "      <td>0.022819</td>\n",
              "      <td>0.171256</td>\n",
              "      <td>0.153885</td>\n",
              "      <td>0.098421</td>\n",
              "      <td>0.020309</td>\n",
              "      <td>0.021447</td>\n",
              "      <td>0.015254</td>\n",
              "      <td>0.012959</td>\n",
              "      <td>0.062605</td>\n",
              "      <td>...</td>\n",
              "      <td>0.002401</td>\n",
              "      <td>0.060193</td>\n",
              "      <td>0.139285</td>\n",
              "      <td>0.086814</td>\n",
              "      <td>1.000000</td>\n",
              "      <td>0.025944</td>\n",
              "      <td>0.047847</td>\n",
              "      <td>0.056775</td>\n",
              "      <td>0.129679</td>\n",
              "      <td>0.060798</td>\n",
              "    </tr>\n",
              "    <tr>\n",
              "      <th>SGOT_AST</th>\n",
              "      <td>0.092943</td>\n",
              "      <td>0.059408</td>\n",
              "      <td>0.039203</td>\n",
              "      <td>0.099652</td>\n",
              "      <td>0.096858</td>\n",
              "      <td>-0.005427</td>\n",
              "      <td>-0.004600</td>\n",
              "      <td>0.011283</td>\n",
              "      <td>0.010763</td>\n",
              "      <td>0.081478</td>\n",
              "      <td>...</td>\n",
              "      <td>0.001996</td>\n",
              "      <td>0.106260</td>\n",
              "      <td>0.098892</td>\n",
              "      <td>0.034656</td>\n",
              "      <td>0.025944</td>\n",
              "      <td>1.000000</td>\n",
              "      <td>0.641722</td>\n",
              "      <td>0.328497</td>\n",
              "      <td>0.062437</td>\n",
              "      <td>0.039382</td>\n",
              "    </tr>\n",
              "    <tr>\n",
              "      <th>SGOT_ALT</th>\n",
              "      <td>0.196751</td>\n",
              "      <td>-0.020506</td>\n",
              "      <td>0.144842</td>\n",
              "      <td>0.276440</td>\n",
              "      <td>0.212267</td>\n",
              "      <td>0.018815</td>\n",
              "      <td>0.018920</td>\n",
              "      <td>-0.007907</td>\n",
              "      <td>-0.008687</td>\n",
              "      <td>0.117613</td>\n",
              "      <td>...</td>\n",
              "      <td>0.047034</td>\n",
              "      <td>0.187614</td>\n",
              "      <td>0.229318</td>\n",
              "      <td>0.030689</td>\n",
              "      <td>0.047847</td>\n",
              "      <td>0.641722</td>\n",
              "      <td>1.000000</td>\n",
              "      <td>0.374446</td>\n",
              "      <td>0.131569</td>\n",
              "      <td>0.062908</td>\n",
              "    </tr>\n",
              "    <tr>\n",
              "      <th>gamma_GTP</th>\n",
              "      <td>0.257229</td>\n",
              "      <td>0.017391</td>\n",
              "      <td>0.162340</td>\n",
              "      <td>0.221881</td>\n",
              "      <td>0.186988</td>\n",
              "      <td>0.013566</td>\n",
              "      <td>0.016491</td>\n",
              "      <td>0.002991</td>\n",
              "      <td>0.003548</td>\n",
              "      <td>0.161434</td>\n",
              "      <td>...</td>\n",
              "      <td>-0.008544</td>\n",
              "      <td>0.299027</td>\n",
              "      <td>0.226218</td>\n",
              "      <td>0.049398</td>\n",
              "      <td>0.056775</td>\n",
              "      <td>0.328497</td>\n",
              "      <td>0.374446</td>\n",
              "      <td>1.000000</td>\n",
              "      <td>0.243576</td>\n",
              "      <td>0.205094</td>\n",
              "    </tr>\n",
              "    <tr>\n",
              "      <th>SMK_stat_type_cd</th>\n",
              "      <td>0.591004</td>\n",
              "      <td>-0.126031</td>\n",
              "      <td>0.467317</td>\n",
              "      <td>0.366499</td>\n",
              "      <td>0.205485</td>\n",
              "      <td>0.064194</td>\n",
              "      <td>0.065051</td>\n",
              "      <td>-0.021245</td>\n",
              "      <td>-0.022330</td>\n",
              "      <td>0.084918</td>\n",
              "      <td>...</td>\n",
              "      <td>-0.012315</td>\n",
              "      <td>0.216026</td>\n",
              "      <td>0.453385</td>\n",
              "      <td>0.015263</td>\n",
              "      <td>0.129679</td>\n",
              "      <td>0.062437</td>\n",
              "      <td>0.131569</td>\n",
              "      <td>0.243576</td>\n",
              "      <td>1.000000</td>\n",
              "      <td>0.350784</td>\n",
              "    </tr>\n",
              "    <tr>\n",
              "      <th>DRK_YN</th>\n",
              "      <td>0.368726</td>\n",
              "      <td>-0.284587</td>\n",
              "      <td>0.374566</td>\n",
              "      <td>0.264282</td>\n",
              "      <td>0.092993</td>\n",
              "      <td>0.077379</td>\n",
              "      <td>0.074806</td>\n",
              "      <td>-0.058337</td>\n",
              "      <td>-0.058230</td>\n",
              "      <td>0.033149</td>\n",
              "      <td>...</td>\n",
              "      <td>-0.043693</td>\n",
              "      <td>0.104398</td>\n",
              "      <td>0.299341</td>\n",
              "      <td>-0.003125</td>\n",
              "      <td>0.060798</td>\n",
              "      <td>0.039382</td>\n",
              "      <td>0.062908</td>\n",
              "      <td>0.205094</td>\n",
              "      <td>0.350784</td>\n",
              "      <td>1.000000</td>\n",
              "    </tr>\n",
              "  </tbody>\n",
              "</table>\n",
              "<p>24 rows × 24 columns</p>\n",
              "</div>"
            ],
            "text/plain": [
              "                       sex       age    height    weight  waistline  \\\n",
              "sex               1.000000 -0.083225  0.722774  0.581707   0.344725   \n",
              "age              -0.083225  1.000000 -0.398501 -0.195337   0.127170   \n",
              "height            0.722774 -0.398501  1.000000  0.668823   0.263945   \n",
              "weight            0.581707 -0.195337  0.668823  1.000000   0.637173   \n",
              "waistline         0.344725  0.127170  0.263945  0.637173   1.000000   \n",
              "sight_left        0.099016 -0.172096  0.139141  0.088901   0.004511   \n",
              "sight_right       0.101522 -0.167684  0.138529  0.088707   0.006158   \n",
              "hear_left         0.002926  0.203021 -0.081159 -0.044498   0.033224   \n",
              "hear_right       -0.000751  0.198693 -0.082456 -0.045709   0.031012   \n",
              "SBP               0.176245  0.265530  0.035030  0.250770   0.272323   \n",
              "DBP               0.199202  0.108847  0.108780  0.277891   0.240890   \n",
              "BLDS              0.118005  0.195796  0.021266  0.138587   0.175519   \n",
              "tot_chole        -0.022444  0.011446 -0.023240  0.063238   0.063201   \n",
              "HDL_chole        -0.256613 -0.104624 -0.148599 -0.287688  -0.253988   \n",
              "LDL_chole        -0.005210  0.029497 -0.015450  0.067859   0.063416   \n",
              "triglyceride      0.216283  0.043549  0.137611  0.283774   0.249436   \n",
              "hemoglobin        0.669417 -0.173081  0.531898  0.499491   0.291730   \n",
              "urine_protein     0.020184  0.041497  0.002298  0.029281   0.043132   \n",
              "serum_creatinine  0.245956  0.022819  0.171256  0.153885   0.098421   \n",
              "SGOT_AST          0.092943  0.059408  0.039203  0.099652   0.096858   \n",
              "SGOT_ALT          0.196751 -0.020506  0.144842  0.276440   0.212267   \n",
              "gamma_GTP         0.257229  0.017391  0.162340  0.221881   0.186988   \n",
              "SMK_stat_type_cd  0.591004 -0.126031  0.467317  0.366499   0.205485   \n",
              "DRK_YN            0.368726 -0.284587  0.374566  0.264282   0.092993   \n",
              "\n",
              "                  sight_left  sight_right  hear_left  hear_right       SBP  \\\n",
              "sex                 0.099016     0.101522   0.002926   -0.000751  0.176245   \n",
              "age                -0.172096    -0.167684   0.203021    0.198693  0.265530   \n",
              "height              0.139141     0.138529  -0.081159   -0.082456  0.035030   \n",
              "weight              0.088901     0.088707  -0.044498   -0.045709  0.250770   \n",
              "waistline           0.004511     0.006158   0.033224    0.031012  0.272323   \n",
              "sight_left          1.000000     0.307985  -0.039428   -0.040998 -0.035617   \n",
              "sight_right         0.307985     1.000000  -0.040764   -0.038895 -0.033994   \n",
              "hear_left          -0.039428    -0.040764   1.000000    0.536890  0.056065   \n",
              "hear_right         -0.040998    -0.038895   0.536890    1.000000  0.057436   \n",
              "SBP                -0.035617    -0.033994   0.056065    0.057436  1.000000   \n",
              "DBP                -0.001209    -0.000568   0.006893    0.007524  0.741131   \n",
              "BLDS               -0.034817    -0.036893   0.039776    0.040905  0.183141   \n",
              "tot_chole           0.004371     0.003437  -0.024342   -0.022866  0.068557   \n",
              "HDL_chole          -0.004224    -0.006259  -0.029464   -0.028046 -0.111772   \n",
              "LDL_chole           0.003013     0.002155  -0.014621   -0.013438  0.033619   \n",
              "triglyceride        0.010599     0.012265   0.002095    0.002155  0.186003   \n",
              "hemoglobin          0.085896     0.086847  -0.036058   -0.036703  0.166530   \n",
              "urine_protein      -0.010253    -0.010897   0.019754    0.018264  0.063518   \n",
              "serum_creatinine    0.020309     0.021447   0.015254    0.012959  0.062605   \n",
              "SGOT_AST           -0.005427    -0.004600   0.011283    0.010763  0.081478   \n",
              "SGOT_ALT            0.018815     0.018920  -0.007907   -0.008687  0.117613   \n",
              "gamma_GTP           0.013566     0.016491   0.002991    0.003548  0.161434   \n",
              "SMK_stat_type_cd    0.064194     0.065051  -0.021245   -0.022330  0.084918   \n",
              "DRK_YN              0.077379     0.074806  -0.058337   -0.058230  0.033149   \n",
              "\n",
              "                  ...  LDL_chole  triglyceride  hemoglobin  urine_protein  \\\n",
              "sex               ...  -0.005210      0.216283    0.669417       0.020184   \n",
              "age               ...   0.029497      0.043549   -0.173081       0.041497   \n",
              "height            ...  -0.015450      0.137611    0.531898       0.002298   \n",
              "weight            ...   0.067859      0.283774    0.499491       0.029281   \n",
              "waistline         ...   0.063416      0.249436    0.291730       0.043132   \n",
              "sight_left        ...   0.003013      0.010599    0.085896      -0.010253   \n",
              "sight_right       ...   0.002155      0.012265    0.086847      -0.010897   \n",
              "hear_left         ...  -0.014621      0.002095   -0.036058       0.019754   \n",
              "hear_right        ...  -0.013438      0.002155   -0.036703       0.018264   \n",
              "SBP               ...   0.033619      0.186003    0.166530       0.063518   \n",
              "DBP               ...   0.066984      0.198651    0.241980       0.046054   \n",
              "BLDS              ...  -0.029736      0.204747    0.101712       0.113215   \n",
              "tot_chole         ...   0.877367      0.270683    0.121272      -0.005416   \n",
              "HDL_chole         ...   0.022089     -0.268366   -0.181865      -0.021816   \n",
              "LDL_chole         ...   1.000000      0.029571    0.101646      -0.015287   \n",
              "triglyceride      ...   0.029571      1.000000    0.241645       0.042962   \n",
              "hemoglobin        ...   0.101646      0.241645    1.000000       0.003793   \n",
              "urine_protein     ...  -0.015287      0.042962    0.003793       1.000000   \n",
              "serum_creatinine  ...   0.002401      0.060193    0.139285       0.086814   \n",
              "SGOT_AST          ...   0.001996      0.106260    0.098892       0.034656   \n",
              "SGOT_ALT          ...   0.047034      0.187614    0.229318       0.030689   \n",
              "gamma_GTP         ...  -0.008544      0.299027    0.226218       0.049398   \n",
              "SMK_stat_type_cd  ...  -0.012315      0.216026    0.453385       0.015263   \n",
              "DRK_YN            ...  -0.043693      0.104398    0.299341      -0.003125   \n",
              "\n",
              "                  serum_creatinine  SGOT_AST  SGOT_ALT  gamma_GTP  \\\n",
              "sex                       0.245956  0.092943  0.196751   0.257229   \n",
              "age                       0.022819  0.059408 -0.020506   0.017391   \n",
              "height                    0.171256  0.039203  0.144842   0.162340   \n",
              "weight                    0.153885  0.099652  0.276440   0.221881   \n",
              "waistline                 0.098421  0.096858  0.212267   0.186988   \n",
              "sight_left                0.020309 -0.005427  0.018815   0.013566   \n",
              "sight_right               0.021447 -0.004600  0.018920   0.016491   \n",
              "hear_left                 0.015254  0.011283 -0.007907   0.002991   \n",
              "hear_right                0.012959  0.010763 -0.008687   0.003548   \n",
              "SBP                       0.062605  0.081478  0.117613   0.161434   \n",
              "DBP                       0.057053  0.078555  0.131320   0.175610   \n",
              "BLDS                      0.043542  0.067913  0.112182   0.168971   \n",
              "tot_chole                -0.005976  0.032410  0.075957   0.094537   \n",
              "HDL_chole                -0.083897 -0.034110 -0.117597  -0.055709   \n",
              "LDL_chole                 0.002401  0.001996  0.047034  -0.008544   \n",
              "triglyceride              0.060193  0.106260  0.187614   0.299027   \n",
              "hemoglobin                0.139285  0.098892  0.229318   0.226218   \n",
              "urine_protein             0.086814  0.034656  0.030689   0.049398   \n",
              "serum_creatinine          1.000000  0.025944  0.047847   0.056775   \n",
              "SGOT_AST                  0.025944  1.000000  0.641722   0.328497   \n",
              "SGOT_ALT                  0.047847  0.641722  1.000000   0.374446   \n",
              "gamma_GTP                 0.056775  0.328497  0.374446   1.000000   \n",
              "SMK_stat_type_cd          0.129679  0.062437  0.131569   0.243576   \n",
              "DRK_YN                    0.060798  0.039382  0.062908   0.205094   \n",
              "\n",
              "                  SMK_stat_type_cd    DRK_YN  \n",
              "sex                       0.591004  0.368726  \n",
              "age                      -0.126031 -0.284587  \n",
              "height                    0.467317  0.374566  \n",
              "weight                    0.366499  0.264282  \n",
              "waistline                 0.205485  0.092993  \n",
              "sight_left                0.064194  0.077379  \n",
              "sight_right               0.065051  0.074806  \n",
              "hear_left                -0.021245 -0.058337  \n",
              "hear_right               -0.022330 -0.058230  \n",
              "SBP                       0.084918  0.033149  \n",
              "DBP                       0.126849  0.100876  \n",
              "BLDS                      0.086490  0.014713  \n",
              "tot_chole                 0.011833  0.019720  \n",
              "HDL_chole                -0.161031  0.042514  \n",
              "LDL_chole                -0.012315 -0.043693  \n",
              "triglyceride              0.216026  0.104398  \n",
              "hemoglobin                0.453385  0.299341  \n",
              "urine_protein             0.015263 -0.003125  \n",
              "serum_creatinine          0.129679  0.060798  \n",
              "SGOT_AST                  0.062437  0.039382  \n",
              "SGOT_ALT                  0.131569  0.062908  \n",
              "gamma_GTP                 0.243576  0.205094  \n",
              "SMK_stat_type_cd          1.000000  0.350784  \n",
              "DRK_YN                    0.350784  1.000000  \n",
              "\n",
              "[24 rows x 24 columns]"
            ]
          },
          "execution_count": 16,
          "metadata": {},
          "output_type": "execute_result"
        }
      ],
      "source": [
        "df.corr()"
      ]
    },
    {
      "cell_type": "code",
      "execution_count": null,
      "metadata": {
        "colab": {
          "base_uri": "https://localhost:8080/"
        },
        "id": "7xMab-QiFSBu",
        "outputId": "e9a199d3-7f6e-44d1-ec43-10e49730d529"
      },
      "outputs": [
        {
          "data": {
            "text/plain": [
              "Index(['sex', 'age', 'height', 'weight', 'waistline', 'sight_left',\n",
              "       'sight_right', 'hear_left', 'hear_right', 'SBP', 'DBP', 'BLDS',\n",
              "       'tot_chole', 'HDL_chole', 'LDL_chole', 'triglyceride', 'hemoglobin',\n",
              "       'urine_protein', 'serum_creatinine', 'SGOT_AST', 'SGOT_ALT',\n",
              "       'gamma_GTP', 'SMK_stat_type_cd', 'DRK_YN'],\n",
              "      dtype='object')"
            ]
          },
          "execution_count": 17,
          "metadata": {},
          "output_type": "execute_result"
        }
      ],
      "source": [
        "df.columns"
      ]
    },
    {
      "cell_type": "markdown",
      "source": [
        "## Splitting Dataset"
      ],
      "metadata": {
        "id": "3eNh4jU6rwWm"
      }
    },
    {
      "cell_type": "code",
      "execution_count": null,
      "metadata": {
        "id": "W4sbiU8zAG1K"
      },
      "outputs": [],
      "source": [
        "k=[0,1,2,3,4,5,6,7,8,9,10,11,12,13,14,15,16,17,18,19,20,21,23]\n",
        "X = df.iloc[:,k].values\n",
        "y=df.iloc[:,22].values"
      ]
    },
    {
      "cell_type": "code",
      "execution_count": null,
      "metadata": {
        "colab": {
          "base_uri": "https://localhost:8080/"
        },
        "id": "u7cSGxyZFq-7",
        "outputId": "52517ce9-c8bd-442d-b758-9681eab31029"
      },
      "outputs": [
        {
          "data": {
            "text/plain": [
              "(991346, 23)"
            ]
          },
          "execution_count": 15,
          "metadata": {},
          "output_type": "execute_result"
        }
      ],
      "source": [
        "X.shape"
      ]
    },
    {
      "cell_type": "code",
      "execution_count": null,
      "metadata": {
        "colab": {
          "base_uri": "https://localhost:8080/"
        },
        "id": "mHfyln1hFuVC",
        "outputId": "3cab4fda-b8d1-497c-9a04-ea9e306a80fb"
      },
      "outputs": [
        {
          "data": {
            "text/plain": [
              "array([1, 3, 1, ..., 3, 1, 3], dtype=int64)"
            ]
          },
          "execution_count": 19,
          "metadata": {},
          "output_type": "execute_result"
        }
      ],
      "source": [
        "# y =y.reshape(len(y),1)\n",
        "y = y.ravel()\n",
        "y"
      ]
    },
    {
      "cell_type": "markdown",
      "source": [
        "## Train-Test Split and Scaling data by use of Standardization\n",
        "\n"
      ],
      "metadata": {
        "id": "flWnyNrYr4su"
      }
    },
    {
      "cell_type": "markdown",
      "source": [
        "Splitting our data into train and test datasets.\n",
        "Here testing dataset contains 20% of all the data and training dataset contains the remaining 80%."
      ],
      "metadata": {
        "id": "b_GvaCPSr2-D"
      }
    },
    {
      "cell_type": "code",
      "execution_count": null,
      "metadata": {
        "colab": {
          "base_uri": "https://localhost:8080/"
        },
        "id": "1ZwY97ZiHwJz",
        "outputId": "7fddcc88-bdd2-4bcb-8884-1ac03df710dc"
      },
      "outputs": [
        {
          "data": {
            "text/plain": [
              "array([[-1.06350214,  0.87347866, -0.77943715, ..., -0.14143111,\n",
              "        -0.49798139, -0.99976046],\n",
              "       [ 0.9402896 , -0.18412336,  1.37422935, ...,  0.12369009,\n",
              "        -0.26038478,  1.0002396 ],\n",
              "       [-1.06350214, -0.53665736,  0.2973961 , ..., -0.40655231,\n",
              "        -0.53758082,  1.0002396 ],\n",
              "       ...,\n",
              "       [ 0.9402896 , -0.88919137,  1.37422935, ..., -0.44442677,\n",
              "        -0.49798139, -0.99976046],\n",
              "       [ 0.9402896 , -0.88919137,  0.83581273, ..., -0.70954797,\n",
              "        -0.5177811 ,  1.0002396 ],\n",
              "       [-1.06350214,  0.16841065, -0.77943715, ..., -0.17930557,\n",
              "        -0.16138619, -0.99976046]])"
            ]
          },
          "execution_count": 20,
          "metadata": {},
          "output_type": "execute_result"
        }
      ],
      "source": [
        "from sklearn.model_selection import train_test_split\n",
        "from sklearn.preprocessing import StandardScaler\n",
        "\n",
        "X_train,X_test,Y_train,Y_test= train_test_split(X,y,test_size=0.2,random_state=0)\n",
        "\n",
        "sd = StandardScaler()\n",
        "X_train = sd.fit_transform(X_train)\n",
        "X_test = sd.transform(X_test)\n",
        "\n",
        "X_train"
      ]
    },
    {
      "cell_type": "code",
      "execution_count": null,
      "metadata": {
        "colab": {
          "base_uri": "https://localhost:8080/"
        },
        "id": "wdZM6mhYMVPg",
        "outputId": "782e2f48-304a-403e-fcde-7af9e29ec082"
      },
      "outputs": [
        {
          "data": {
            "text/plain": [
              "array([[-1.06350214,  0.87347866, -1.8562704 , ..., -0.44442677,\n",
              "        -0.47818167, -0.99976046],\n",
              "       [-1.06350214, -0.53665736, -0.24102052, ..., -0.55805014,\n",
              "        -0.49798139, -0.99976046],\n",
              "       [ 0.9402896 , -0.88919137,  1.37422935, ..., -0.55805014,\n",
              "        -0.16138619,  1.0002396 ],\n",
              "       ...,\n",
              "       [-1.06350214,  0.16841065, -0.24102052, ..., -0.55805014,\n",
              "        -0.53758082, -0.99976046],\n",
              "       [-1.06350214,  0.16841065, -1.8562704 , ..., -0.5959246 ,\n",
              "         0.13560958, -0.99976046],\n",
              "       [ 0.9402896 ,  0.52094465,  0.83581273, ..., -0.29292894,\n",
              "        -0.20098562,  1.0002396 ]])"
            ]
          },
          "execution_count": 18,
          "metadata": {},
          "output_type": "execute_result"
        }
      ],
      "source": [
        "X_test"
      ]
    },
    {
      "cell_type": "markdown",
      "source": [
        "# KNN MODEL BUILDING"
      ],
      "metadata": {
        "id": "6Tc3t0yjsBvH"
      }
    },
    {
      "cell_type": "code",
      "execution_count": null,
      "metadata": {
        "colab": {
          "base_uri": "https://localhost:8080/",
          "height": 74
        },
        "id": "JUS1pFqiGuQk",
        "outputId": "b5a63730-2dd9-4c4f-fc89-ef1a12139b36"
      },
      "outputs": [
        {
          "data": {
            "text/html": [
              "<style>#sk-container-id-4 {color: black;}#sk-container-id-4 pre{padding: 0;}#sk-container-id-4 div.sk-toggleable {background-color: white;}#sk-container-id-4 label.sk-toggleable__label {cursor: pointer;display: block;width: 100%;margin-bottom: 0;padding: 0.3em;box-sizing: border-box;text-align: center;}#sk-container-id-4 label.sk-toggleable__label-arrow:before {content: \"▸\";float: left;margin-right: 0.25em;color: #696969;}#sk-container-id-4 label.sk-toggleable__label-arrow:hover:before {color: black;}#sk-container-id-4 div.sk-estimator:hover label.sk-toggleable__label-arrow:before {color: black;}#sk-container-id-4 div.sk-toggleable__content {max-height: 0;max-width: 0;overflow: hidden;text-align: left;background-color: #f0f8ff;}#sk-container-id-4 div.sk-toggleable__content pre {margin: 0.2em;color: black;border-radius: 0.25em;background-color: #f0f8ff;}#sk-container-id-4 input.sk-toggleable__control:checked~div.sk-toggleable__content {max-height: 200px;max-width: 100%;overflow: auto;}#sk-container-id-4 input.sk-toggleable__control:checked~label.sk-toggleable__label-arrow:before {content: \"▾\";}#sk-container-id-4 div.sk-estimator input.sk-toggleable__control:checked~label.sk-toggleable__label {background-color: #d4ebff;}#sk-container-id-4 div.sk-label input.sk-toggleable__control:checked~label.sk-toggleable__label {background-color: #d4ebff;}#sk-container-id-4 input.sk-hidden--visually {border: 0;clip: rect(1px 1px 1px 1px);clip: rect(1px, 1px, 1px, 1px);height: 1px;margin: -1px;overflow: hidden;padding: 0;position: absolute;width: 1px;}#sk-container-id-4 div.sk-estimator {font-family: monospace;background-color: #f0f8ff;border: 1px dotted black;border-radius: 0.25em;box-sizing: border-box;margin-bottom: 0.5em;}#sk-container-id-4 div.sk-estimator:hover {background-color: #d4ebff;}#sk-container-id-4 div.sk-parallel-item::after {content: \"\";width: 100%;border-bottom: 1px solid gray;flex-grow: 1;}#sk-container-id-4 div.sk-label:hover label.sk-toggleable__label {background-color: #d4ebff;}#sk-container-id-4 div.sk-serial::before {content: \"\";position: absolute;border-left: 1px solid gray;box-sizing: border-box;top: 0;bottom: 0;left: 50%;z-index: 0;}#sk-container-id-4 div.sk-serial {display: flex;flex-direction: column;align-items: center;background-color: white;padding-right: 0.2em;padding-left: 0.2em;position: relative;}#sk-container-id-4 div.sk-item {position: relative;z-index: 1;}#sk-container-id-4 div.sk-parallel {display: flex;align-items: stretch;justify-content: center;background-color: white;position: relative;}#sk-container-id-4 div.sk-item::before, #sk-container-id-4 div.sk-parallel-item::before {content: \"\";position: absolute;border-left: 1px solid gray;box-sizing: border-box;top: 0;bottom: 0;left: 50%;z-index: -1;}#sk-container-id-4 div.sk-parallel-item {display: flex;flex-direction: column;z-index: 1;position: relative;background-color: white;}#sk-container-id-4 div.sk-parallel-item:first-child::after {align-self: flex-end;width: 50%;}#sk-container-id-4 div.sk-parallel-item:last-child::after {align-self: flex-start;width: 50%;}#sk-container-id-4 div.sk-parallel-item:only-child::after {width: 0;}#sk-container-id-4 div.sk-dashed-wrapped {border: 1px dashed gray;margin: 0 0.4em 0.5em 0.4em;box-sizing: border-box;padding-bottom: 0.4em;background-color: white;}#sk-container-id-4 div.sk-label label {font-family: monospace;font-weight: bold;display: inline-block;line-height: 1.2em;}#sk-container-id-4 div.sk-label-container {text-align: center;}#sk-container-id-4 div.sk-container {/* jupyter's `normalize.less` sets `[hidden] { display: none; }` but bootstrap.min.css set `[hidden] { display: none !important; }` so we also need the `!important` here to be able to override the default hidden behavior on the sphinx rendered scikit-learn.org. See: https://github.com/scikit-learn/scikit-learn/issues/21755 */display: inline-block !important;position: relative;}#sk-container-id-4 div.sk-text-repr-fallback {display: none;}</style><div id=\"sk-container-id-4\" class=\"sk-top-container\"><div class=\"sk-text-repr-fallback\"><pre>KNeighborsClassifier()</pre><b>In a Jupyter environment, please rerun this cell to show the HTML representation or trust the notebook. <br />On GitHub, the HTML representation is unable to render, please try loading this page with nbviewer.org.</b></div><div class=\"sk-container\" hidden><div class=\"sk-item\"><div class=\"sk-estimator sk-toggleable\"><input class=\"sk-toggleable__control sk-hidden--visually\" id=\"sk-estimator-id-6\" type=\"checkbox\" checked><label for=\"sk-estimator-id-6\" class=\"sk-toggleable__label sk-toggleable__label-arrow\">KNeighborsClassifier</label><div class=\"sk-toggleable__content\"><pre>KNeighborsClassifier()</pre></div></div></div></div></div>"
            ],
            "text/plain": [
              "KNeighborsClassifier()"
            ]
          },
          "execution_count": 34,
          "metadata": {},
          "output_type": "execute_result"
        }
      ],
      "source": [
        "from sklearn.neighbors import KNeighborsClassifier\n",
        "\n",
        "knn = KNeighborsClassifier()\n",
        "knn.fit(X_train,Y_train)"
      ]
    },
    {
      "cell_type": "code",
      "execution_count": null,
      "metadata": {
        "id": "Hs5lo-CeIeBn"
      },
      "outputs": [],
      "source": [
        "y_pred = knn.predict(X_test)\n"
      ]
    },
    {
      "cell_type": "code",
      "execution_count": null,
      "metadata": {
        "colab": {
          "base_uri": "https://localhost:8080/"
        },
        "id": "oBn6QpNxJW9p",
        "outputId": "f4ba4412-8644-4bfc-ab73-1b1776ff57cd"
      },
      "outputs": [
        {
          "data": {
            "text/plain": [
              "0.6608816260654663"
            ]
          },
          "execution_count": 36,
          "metadata": {},
          "output_type": "execute_result"
        }
      ],
      "source": [
        "from sklearn.metrics import accuracy_score,classification_report\n",
        "\n",
        "accuracy_score(Y_test,y_pred)"
      ]
    },
    {
      "cell_type": "code",
      "execution_count": null,
      "metadata": {
        "colab": {
          "base_uri": "https://localhost:8080/"
        },
        "id": "BE64ONjdNWOt",
        "outputId": "49871c19-4a6d-4209-ced3-475d4e24cc12"
      },
      "outputs": [
        {
          "name": "stdout",
          "output_type": "stream",
          "text": [
            "              precision    recall  f1-score   support\n",
            "\n",
            "           1       0.77      0.86      0.81    120425\n",
            "           2       0.38      0.36      0.37     35078\n",
            "           3       0.49      0.36      0.42     42767\n",
            "\n",
            "    accuracy                           0.66    198270\n",
            "   macro avg       0.55      0.52      0.53    198270\n",
            "weighted avg       0.64      0.66      0.65    198270\n",
            "\n"
          ]
        }
      ],
      "source": [
        "print(classification_report(Y_test,y_pred))"
      ]
    },
    {
      "cell_type": "markdown",
      "source": [
        "Confusion Matrix"
      ],
      "metadata": {
        "id": "RCGRnwBWsID9"
      }
    },
    {
      "cell_type": "code",
      "execution_count": null,
      "metadata": {
        "id": "VMPvq_-xnZqJ",
        "outputId": "2fe25b0e-003c-433f-ae12-beb7afc1f218"
      },
      "outputs": [
        {
          "data": {
            "text/plain": [
              "0.6412099644021204"
            ]
          },
          "execution_count": 38,
          "metadata": {},
          "output_type": "execute_result"
        }
      ],
      "source": [
        "from sklearn.metrics import confusion_matrix, precision_score,recall_score, f1_score\n",
        "\n",
        "precision = precision_score(Y_test,y_pred, average=\"weighted\")\n",
        "precision"
      ]
    },
    {
      "cell_type": "code",
      "execution_count": null,
      "metadata": {
        "id": "SEKJagURnZqK",
        "outputId": "fee20868-ff11-4b61-b21d-c04bb82f1263"
      },
      "outputs": [
        {
          "data": {
            "text/plain": [
              "0.6608816260654663"
            ]
          },
          "execution_count": 39,
          "metadata": {},
          "output_type": "execute_result"
        }
      ],
      "source": [
        "# recall\n",
        "recall = recall_score(Y_test,y_pred, average=\"weighted\")\n",
        "recall"
      ]
    },
    {
      "cell_type": "code",
      "execution_count": null,
      "metadata": {
        "id": "rQ0mohR1nZqL",
        "outputId": "989dfe22-5f94-4ca5-975e-b10964d1b1cf"
      },
      "outputs": [
        {
          "data": {
            "text/plain": [
              "0.6475847242718191"
            ]
          },
          "execution_count": 40,
          "metadata": {},
          "output_type": "execute_result"
        }
      ],
      "source": [
        "# F1 score\n",
        "f1 =  f1_score(Y_test,y_pred, average=\"weighted\")\n",
        "f1"
      ]
    },
    {
      "cell_type": "markdown",
      "source": [
        "Model Optimization"
      ],
      "metadata": {
        "id": "3ANWjpL4sNjA"
      }
    },
    {
      "cell_type": "code",
      "execution_count": null,
      "metadata": {
        "id": "D8rYl7cLNo5A"
      },
      "outputs": [],
      "source": [
        "param_grid = {\n",
        "    'n_neighbors': [3,7],  # Varying the number of neighbors\n",
        "    'weights': ['uniform', 'distance'],  # Different weight options\n",
        "    'p': [1, 2]  # Minkowski distance parameter for power parameter\n",
        "}"
      ]
    },
    {
      "cell_type": "code",
      "execution_count": null,
      "metadata": {
        "id": "lHlENnwMQ2qU",
        "outputId": "25f3f1d1-582c-466c-bb72-399bc58f69c5"
      },
      "outputs": [
        {
          "data": {
            "text/html": [
              "<style>#sk-container-id-2 {color: black;}#sk-container-id-2 pre{padding: 0;}#sk-container-id-2 div.sk-toggleable {background-color: white;}#sk-container-id-2 label.sk-toggleable__label {cursor: pointer;display: block;width: 100%;margin-bottom: 0;padding: 0.3em;box-sizing: border-box;text-align: center;}#sk-container-id-2 label.sk-toggleable__label-arrow:before {content: \"▸\";float: left;margin-right: 0.25em;color: #696969;}#sk-container-id-2 label.sk-toggleable__label-arrow:hover:before {color: black;}#sk-container-id-2 div.sk-estimator:hover label.sk-toggleable__label-arrow:before {color: black;}#sk-container-id-2 div.sk-toggleable__content {max-height: 0;max-width: 0;overflow: hidden;text-align: left;background-color: #f0f8ff;}#sk-container-id-2 div.sk-toggleable__content pre {margin: 0.2em;color: black;border-radius: 0.25em;background-color: #f0f8ff;}#sk-container-id-2 input.sk-toggleable__control:checked~div.sk-toggleable__content {max-height: 200px;max-width: 100%;overflow: auto;}#sk-container-id-2 input.sk-toggleable__control:checked~label.sk-toggleable__label-arrow:before {content: \"▾\";}#sk-container-id-2 div.sk-estimator input.sk-toggleable__control:checked~label.sk-toggleable__label {background-color: #d4ebff;}#sk-container-id-2 div.sk-label input.sk-toggleable__control:checked~label.sk-toggleable__label {background-color: #d4ebff;}#sk-container-id-2 input.sk-hidden--visually {border: 0;clip: rect(1px 1px 1px 1px);clip: rect(1px, 1px, 1px, 1px);height: 1px;margin: -1px;overflow: hidden;padding: 0;position: absolute;width: 1px;}#sk-container-id-2 div.sk-estimator {font-family: monospace;background-color: #f0f8ff;border: 1px dotted black;border-radius: 0.25em;box-sizing: border-box;margin-bottom: 0.5em;}#sk-container-id-2 div.sk-estimator:hover {background-color: #d4ebff;}#sk-container-id-2 div.sk-parallel-item::after {content: \"\";width: 100%;border-bottom: 1px solid gray;flex-grow: 1;}#sk-container-id-2 div.sk-label:hover label.sk-toggleable__label {background-color: #d4ebff;}#sk-container-id-2 div.sk-serial::before {content: \"\";position: absolute;border-left: 1px solid gray;box-sizing: border-box;top: 0;bottom: 0;left: 50%;z-index: 0;}#sk-container-id-2 div.sk-serial {display: flex;flex-direction: column;align-items: center;background-color: white;padding-right: 0.2em;padding-left: 0.2em;position: relative;}#sk-container-id-2 div.sk-item {position: relative;z-index: 1;}#sk-container-id-2 div.sk-parallel {display: flex;align-items: stretch;justify-content: center;background-color: white;position: relative;}#sk-container-id-2 div.sk-item::before, #sk-container-id-2 div.sk-parallel-item::before {content: \"\";position: absolute;border-left: 1px solid gray;box-sizing: border-box;top: 0;bottom: 0;left: 50%;z-index: -1;}#sk-container-id-2 div.sk-parallel-item {display: flex;flex-direction: column;z-index: 1;position: relative;background-color: white;}#sk-container-id-2 div.sk-parallel-item:first-child::after {align-self: flex-end;width: 50%;}#sk-container-id-2 div.sk-parallel-item:last-child::after {align-self: flex-start;width: 50%;}#sk-container-id-2 div.sk-parallel-item:only-child::after {width: 0;}#sk-container-id-2 div.sk-dashed-wrapped {border: 1px dashed gray;margin: 0 0.4em 0.5em 0.4em;box-sizing: border-box;padding-bottom: 0.4em;background-color: white;}#sk-container-id-2 div.sk-label label {font-family: monospace;font-weight: bold;display: inline-block;line-height: 1.2em;}#sk-container-id-2 div.sk-label-container {text-align: center;}#sk-container-id-2 div.sk-container {/* jupyter's `normalize.less` sets `[hidden] { display: none; }` but bootstrap.min.css set `[hidden] { display: none !important; }` so we also need the `!important` here to be able to override the default hidden behavior on the sphinx rendered scikit-learn.org. See: https://github.com/scikit-learn/scikit-learn/issues/21755 */display: inline-block !important;position: relative;}#sk-container-id-2 div.sk-text-repr-fallback {display: none;}</style><div id=\"sk-container-id-2\" class=\"sk-top-container\"><div class=\"sk-text-repr-fallback\"><pre>GridSearchCV(cv=5, estimator=KNeighborsClassifier(),\n",
              "             param_grid={&#x27;n_neighbors&#x27;: [3, 7], &#x27;p&#x27;: [1, 2],\n",
              "                         &#x27;weights&#x27;: [&#x27;uniform&#x27;, &#x27;distance&#x27;]},\n",
              "             scoring=&#x27;accuracy&#x27;)</pre><b>In a Jupyter environment, please rerun this cell to show the HTML representation or trust the notebook. <br />On GitHub, the HTML representation is unable to render, please try loading this page with nbviewer.org.</b></div><div class=\"sk-container\" hidden><div class=\"sk-item sk-dashed-wrapped\"><div class=\"sk-label-container\"><div class=\"sk-label sk-toggleable\"><input class=\"sk-toggleable__control sk-hidden--visually\" id=\"sk-estimator-id-2\" type=\"checkbox\" ><label for=\"sk-estimator-id-2\" class=\"sk-toggleable__label sk-toggleable__label-arrow\">GridSearchCV</label><div class=\"sk-toggleable__content\"><pre>GridSearchCV(cv=5, estimator=KNeighborsClassifier(),\n",
              "             param_grid={&#x27;n_neighbors&#x27;: [3, 7], &#x27;p&#x27;: [1, 2],\n",
              "                         &#x27;weights&#x27;: [&#x27;uniform&#x27;, &#x27;distance&#x27;]},\n",
              "             scoring=&#x27;accuracy&#x27;)</pre></div></div></div><div class=\"sk-parallel\"><div class=\"sk-parallel-item\"><div class=\"sk-item\"><div class=\"sk-label-container\"><div class=\"sk-label sk-toggleable\"><input class=\"sk-toggleable__control sk-hidden--visually\" id=\"sk-estimator-id-3\" type=\"checkbox\" ><label for=\"sk-estimator-id-3\" class=\"sk-toggleable__label sk-toggleable__label-arrow\">estimator: KNeighborsClassifier</label><div class=\"sk-toggleable__content\"><pre>KNeighborsClassifier()</pre></div></div></div><div class=\"sk-serial\"><div class=\"sk-item\"><div class=\"sk-estimator sk-toggleable\"><input class=\"sk-toggleable__control sk-hidden--visually\" id=\"sk-estimator-id-4\" type=\"checkbox\" ><label for=\"sk-estimator-id-4\" class=\"sk-toggleable__label sk-toggleable__label-arrow\">KNeighborsClassifier</label><div class=\"sk-toggleable__content\"><pre>KNeighborsClassifier()</pre></div></div></div></div></div></div></div></div></div></div>"
            ],
            "text/plain": [
              "GridSearchCV(cv=5, estimator=KNeighborsClassifier(),\n",
              "             param_grid={'n_neighbors': [3, 7], 'p': [1, 2],\n",
              "                         'weights': ['uniform', 'distance']},\n",
              "             scoring='accuracy')"
            ]
          },
          "execution_count": 25,
          "metadata": {},
          "output_type": "execute_result"
        }
      ],
      "source": [
        "from sklearn.model_selection import GridSearchCV\n",
        "\n",
        "grid_search = GridSearchCV(knn, param_grid, cv=5, scoring='accuracy')\n",
        "grid_search.fit(X_train,Y_train)"
      ]
    },
    {
      "cell_type": "code",
      "execution_count": null,
      "metadata": {
        "id": "_KTM_6V2TLqL",
        "outputId": "d0c7c00c-1c18-422f-e8e6-44160fe64d81"
      },
      "outputs": [
        {
          "name": "stdout",
          "output_type": "stream",
          "text": [
            "Best hyperparameters: {'n_neighbors': 7, 'p': 1, 'weights': 'distance'}\n"
          ]
        }
      ],
      "source": [
        "best_params = grid_search.best_params_\n",
        "print(\"Best hyperparameters:\", best_params)"
      ]
    },
    {
      "cell_type": "code",
      "execution_count": null,
      "metadata": {
        "id": "6DXdXHWEnZqR",
        "outputId": "bed97862-4fb0-441e-8592-401541f27e61"
      },
      "outputs": [
        {
          "data": {
            "text/html": [
              "<style>#sk-container-id-1 {color: black;}#sk-container-id-1 pre{padding: 0;}#sk-container-id-1 div.sk-toggleable {background-color: white;}#sk-container-id-1 label.sk-toggleable__label {cursor: pointer;display: block;width: 100%;margin-bottom: 0;padding: 0.3em;box-sizing: border-box;text-align: center;}#sk-container-id-1 label.sk-toggleable__label-arrow:before {content: \"▸\";float: left;margin-right: 0.25em;color: #696969;}#sk-container-id-1 label.sk-toggleable__label-arrow:hover:before {color: black;}#sk-container-id-1 div.sk-estimator:hover label.sk-toggleable__label-arrow:before {color: black;}#sk-container-id-1 div.sk-toggleable__content {max-height: 0;max-width: 0;overflow: hidden;text-align: left;background-color: #f0f8ff;}#sk-container-id-1 div.sk-toggleable__content pre {margin: 0.2em;color: black;border-radius: 0.25em;background-color: #f0f8ff;}#sk-container-id-1 input.sk-toggleable__control:checked~div.sk-toggleable__content {max-height: 200px;max-width: 100%;overflow: auto;}#sk-container-id-1 input.sk-toggleable__control:checked~label.sk-toggleable__label-arrow:before {content: \"▾\";}#sk-container-id-1 div.sk-estimator input.sk-toggleable__control:checked~label.sk-toggleable__label {background-color: #d4ebff;}#sk-container-id-1 div.sk-label input.sk-toggleable__control:checked~label.sk-toggleable__label {background-color: #d4ebff;}#sk-container-id-1 input.sk-hidden--visually {border: 0;clip: rect(1px 1px 1px 1px);clip: rect(1px, 1px, 1px, 1px);height: 1px;margin: -1px;overflow: hidden;padding: 0;position: absolute;width: 1px;}#sk-container-id-1 div.sk-estimator {font-family: monospace;background-color: #f0f8ff;border: 1px dotted black;border-radius: 0.25em;box-sizing: border-box;margin-bottom: 0.5em;}#sk-container-id-1 div.sk-estimator:hover {background-color: #d4ebff;}#sk-container-id-1 div.sk-parallel-item::after {content: \"\";width: 100%;border-bottom: 1px solid gray;flex-grow: 1;}#sk-container-id-1 div.sk-label:hover label.sk-toggleable__label {background-color: #d4ebff;}#sk-container-id-1 div.sk-serial::before {content: \"\";position: absolute;border-left: 1px solid gray;box-sizing: border-box;top: 0;bottom: 0;left: 50%;z-index: 0;}#sk-container-id-1 div.sk-serial {display: flex;flex-direction: column;align-items: center;background-color: white;padding-right: 0.2em;padding-left: 0.2em;position: relative;}#sk-container-id-1 div.sk-item {position: relative;z-index: 1;}#sk-container-id-1 div.sk-parallel {display: flex;align-items: stretch;justify-content: center;background-color: white;position: relative;}#sk-container-id-1 div.sk-item::before, #sk-container-id-1 div.sk-parallel-item::before {content: \"\";position: absolute;border-left: 1px solid gray;box-sizing: border-box;top: 0;bottom: 0;left: 50%;z-index: -1;}#sk-container-id-1 div.sk-parallel-item {display: flex;flex-direction: column;z-index: 1;position: relative;background-color: white;}#sk-container-id-1 div.sk-parallel-item:first-child::after {align-self: flex-end;width: 50%;}#sk-container-id-1 div.sk-parallel-item:last-child::after {align-self: flex-start;width: 50%;}#sk-container-id-1 div.sk-parallel-item:only-child::after {width: 0;}#sk-container-id-1 div.sk-dashed-wrapped {border: 1px dashed gray;margin: 0 0.4em 0.5em 0.4em;box-sizing: border-box;padding-bottom: 0.4em;background-color: white;}#sk-container-id-1 div.sk-label label {font-family: monospace;font-weight: bold;display: inline-block;line-height: 1.2em;}#sk-container-id-1 div.sk-label-container {text-align: center;}#sk-container-id-1 div.sk-container {/* jupyter's `normalize.less` sets `[hidden] { display: none; }` but bootstrap.min.css set `[hidden] { display: none !important; }` so we also need the `!important` here to be able to override the default hidden behavior on the sphinx rendered scikit-learn.org. See: https://github.com/scikit-learn/scikit-learn/issues/21755 */display: inline-block !important;position: relative;}#sk-container-id-1 div.sk-text-repr-fallback {display: none;}</style><div id=\"sk-container-id-1\" class=\"sk-top-container\"><div class=\"sk-text-repr-fallback\"><pre>KNeighborsClassifier(n_neighbors=7, p=1, weights=&#x27;distance&#x27;)</pre><b>In a Jupyter environment, please rerun this cell to show the HTML representation or trust the notebook. <br />On GitHub, the HTML representation is unable to render, please try loading this page with nbviewer.org.</b></div><div class=\"sk-container\" hidden><div class=\"sk-item\"><div class=\"sk-estimator sk-toggleable\"><input class=\"sk-toggleable__control sk-hidden--visually\" id=\"sk-estimator-id-1\" type=\"checkbox\" checked><label for=\"sk-estimator-id-1\" class=\"sk-toggleable__label sk-toggleable__label-arrow\">KNeighborsClassifier</label><div class=\"sk-toggleable__content\"><pre>KNeighborsClassifier(n_neighbors=7, p=1, weights=&#x27;distance&#x27;)</pre></div></div></div></div></div>"
            ],
            "text/plain": [
              "KNeighborsClassifier(n_neighbors=7, p=1, weights='distance')"
            ]
          },
          "execution_count": 21,
          "metadata": {},
          "output_type": "execute_result"
        }
      ],
      "source": [
        "from sklearn.neighbors import KNeighborsClassifier\n",
        "knn_best_param = KNeighborsClassifier(n_neighbors=7,p=1,weights='distance')\n",
        "\n",
        "knn_best_param.fit(X_train,Y_train)"
      ]
    },
    {
      "cell_type": "code",
      "execution_count": null,
      "metadata": {
        "id": "jTrOVLJLnZqS"
      },
      "outputs": [],
      "source": [
        "y_pred_knn_best = knn_best_param.predict(X_test)\n"
      ]
    },
    {
      "cell_type": "code",
      "execution_count": null,
      "metadata": {
        "id": "9VcSq_5DnZqT",
        "outputId": "6b80701f-42d5-4321-a982-b48a504673c3"
      },
      "outputs": [
        {
          "data": {
            "text/plain": [
              "0.6705502597468099"
            ]
          },
          "execution_count": 24,
          "metadata": {},
          "output_type": "execute_result"
        }
      ],
      "source": [
        "from sklearn.metrics import accuracy_score,classification_report\n",
        "\n",
        "accuracy_score(Y_test,y_pred_knn_best)"
      ]
    },
    {
      "cell_type": "markdown",
      "metadata": {
        "id": "Iim4xQJfi4ej"
      },
      "source": [
        "LOGISTIC CLASSIFIER\n"
      ]
    },
    {
      "cell_type": "code",
      "execution_count": null,
      "metadata": {
        "id": "b2VUepOINz_j",
        "outputId": "7819ea35-3437-48fc-d5f6-98cd0475e905"
      },
      "outputs": [
        {
          "data": {
            "text/html": [
              "<style>#sk-container-id-5 {color: black;}#sk-container-id-5 pre{padding: 0;}#sk-container-id-5 div.sk-toggleable {background-color: white;}#sk-container-id-5 label.sk-toggleable__label {cursor: pointer;display: block;width: 100%;margin-bottom: 0;padding: 0.3em;box-sizing: border-box;text-align: center;}#sk-container-id-5 label.sk-toggleable__label-arrow:before {content: \"▸\";float: left;margin-right: 0.25em;color: #696969;}#sk-container-id-5 label.sk-toggleable__label-arrow:hover:before {color: black;}#sk-container-id-5 div.sk-estimator:hover label.sk-toggleable__label-arrow:before {color: black;}#sk-container-id-5 div.sk-toggleable__content {max-height: 0;max-width: 0;overflow: hidden;text-align: left;background-color: #f0f8ff;}#sk-container-id-5 div.sk-toggleable__content pre {margin: 0.2em;color: black;border-radius: 0.25em;background-color: #f0f8ff;}#sk-container-id-5 input.sk-toggleable__control:checked~div.sk-toggleable__content {max-height: 200px;max-width: 100%;overflow: auto;}#sk-container-id-5 input.sk-toggleable__control:checked~label.sk-toggleable__label-arrow:before {content: \"▾\";}#sk-container-id-5 div.sk-estimator input.sk-toggleable__control:checked~label.sk-toggleable__label {background-color: #d4ebff;}#sk-container-id-5 div.sk-label input.sk-toggleable__control:checked~label.sk-toggleable__label {background-color: #d4ebff;}#sk-container-id-5 input.sk-hidden--visually {border: 0;clip: rect(1px 1px 1px 1px);clip: rect(1px, 1px, 1px, 1px);height: 1px;margin: -1px;overflow: hidden;padding: 0;position: absolute;width: 1px;}#sk-container-id-5 div.sk-estimator {font-family: monospace;background-color: #f0f8ff;border: 1px dotted black;border-radius: 0.25em;box-sizing: border-box;margin-bottom: 0.5em;}#sk-container-id-5 div.sk-estimator:hover {background-color: #d4ebff;}#sk-container-id-5 div.sk-parallel-item::after {content: \"\";width: 100%;border-bottom: 1px solid gray;flex-grow: 1;}#sk-container-id-5 div.sk-label:hover label.sk-toggleable__label {background-color: #d4ebff;}#sk-container-id-5 div.sk-serial::before {content: \"\";position: absolute;border-left: 1px solid gray;box-sizing: border-box;top: 0;bottom: 0;left: 50%;z-index: 0;}#sk-container-id-5 div.sk-serial {display: flex;flex-direction: column;align-items: center;background-color: white;padding-right: 0.2em;padding-left: 0.2em;position: relative;}#sk-container-id-5 div.sk-item {position: relative;z-index: 1;}#sk-container-id-5 div.sk-parallel {display: flex;align-items: stretch;justify-content: center;background-color: white;position: relative;}#sk-container-id-5 div.sk-item::before, #sk-container-id-5 div.sk-parallel-item::before {content: \"\";position: absolute;border-left: 1px solid gray;box-sizing: border-box;top: 0;bottom: 0;left: 50%;z-index: -1;}#sk-container-id-5 div.sk-parallel-item {display: flex;flex-direction: column;z-index: 1;position: relative;background-color: white;}#sk-container-id-5 div.sk-parallel-item:first-child::after {align-self: flex-end;width: 50%;}#sk-container-id-5 div.sk-parallel-item:last-child::after {align-self: flex-start;width: 50%;}#sk-container-id-5 div.sk-parallel-item:only-child::after {width: 0;}#sk-container-id-5 div.sk-dashed-wrapped {border: 1px dashed gray;margin: 0 0.4em 0.5em 0.4em;box-sizing: border-box;padding-bottom: 0.4em;background-color: white;}#sk-container-id-5 div.sk-label label {font-family: monospace;font-weight: bold;display: inline-block;line-height: 1.2em;}#sk-container-id-5 div.sk-label-container {text-align: center;}#sk-container-id-5 div.sk-container {/* jupyter's `normalize.less` sets `[hidden] { display: none; }` but bootstrap.min.css set `[hidden] { display: none !important; }` so we also need the `!important` here to be able to override the default hidden behavior on the sphinx rendered scikit-learn.org. See: https://github.com/scikit-learn/scikit-learn/issues/21755 */display: inline-block !important;position: relative;}#sk-container-id-5 div.sk-text-repr-fallback {display: none;}</style><div id=\"sk-container-id-5\" class=\"sk-top-container\"><div class=\"sk-text-repr-fallback\"><pre>LogisticRegression()</pre><b>In a Jupyter environment, please rerun this cell to show the HTML representation or trust the notebook. <br />On GitHub, the HTML representation is unable to render, please try loading this page with nbviewer.org.</b></div><div class=\"sk-container\" hidden><div class=\"sk-item\"><div class=\"sk-estimator sk-toggleable\"><input class=\"sk-toggleable__control sk-hidden--visually\" id=\"sk-estimator-id-7\" type=\"checkbox\" checked><label for=\"sk-estimator-id-7\" class=\"sk-toggleable__label sk-toggleable__label-arrow\">LogisticRegression</label><div class=\"sk-toggleable__content\"><pre>LogisticRegression()</pre></div></div></div></div></div>"
            ],
            "text/plain": [
              "LogisticRegression()"
            ]
          },
          "execution_count": 41,
          "metadata": {},
          "output_type": "execute_result"
        }
      ],
      "source": [
        "from sklearn.linear_model import LogisticRegression\n",
        "\n",
        "lr_clf =LogisticRegression()\n",
        "\n",
        "lr_clf.fit(X_train,Y_train)"
      ]
    },
    {
      "cell_type": "code",
      "execution_count": null,
      "metadata": {
        "id": "rkp5mjwHwUm_"
      },
      "outputs": [],
      "source": [
        "y_pred_LR = lr_clf.predict(X_test)"
      ]
    },
    {
      "cell_type": "code",
      "execution_count": null,
      "metadata": {
        "id": "IczWsF3pnZqf",
        "outputId": "a54912ff-f548-48d5-a256-41ce6684dfec"
      },
      "outputs": [
        {
          "data": {
            "text/plain": [
              "0.6913703535582791"
            ]
          },
          "execution_count": 43,
          "metadata": {},
          "output_type": "execute_result"
        }
      ],
      "source": [
        "from sklearn.metrics import accuracy_score,classification_report\n",
        "\n",
        "accuracy_score(Y_test,y_pred_LR)\n"
      ]
    },
    {
      "cell_type": "code",
      "execution_count": null,
      "metadata": {
        "id": "CzGCmdrGnZqh",
        "outputId": "41fb0db5-8051-4e4c-9677-4c313b498563"
      },
      "outputs": [
        {
          "name": "stdout",
          "output_type": "stream",
          "text": [
            "              precision    recall  f1-score   support\n",
            "\n",
            "           1       0.82      0.83      0.83    120425\n",
            "           2       0.45      0.32      0.37     35078\n",
            "           3       0.50      0.59      0.54     42767\n",
            "\n",
            "    accuracy                           0.69    198270\n",
            "   macro avg       0.59      0.58      0.58    198270\n",
            "weighted avg       0.69      0.69      0.69    198270\n",
            "\n"
          ]
        }
      ],
      "source": [
        "print(classification_report(Y_test,y_pred_LR))"
      ]
    },
    {
      "cell_type": "code",
      "execution_count": null,
      "metadata": {
        "id": "mgg3U3W4nZqi",
        "outputId": "0fb9a9d4-81f7-440b-df30-f180cb6a5ba1"
      },
      "outputs": [
        {
          "data": {
            "text/plain": [
              "0.6412099644021204"
            ]
          },
          "execution_count": 45,
          "metadata": {},
          "output_type": "execute_result"
        }
      ],
      "source": [
        "from sklearn.metrics import confusion_matrix, precision_score,recall_score, f1_score\n",
        "\n",
        "precision = precision_score(Y_test,y_pred, average=\"weighted\")\n",
        "precision"
      ]
    },
    {
      "cell_type": "code",
      "execution_count": null,
      "metadata": {
        "id": "5b1pcWcKnZqj",
        "outputId": "0cac9928-70dd-4dca-d34f-44c36962c61d"
      },
      "outputs": [
        {
          "data": {
            "text/plain": [
              "0.6608816260654663"
            ]
          },
          "execution_count": 46,
          "metadata": {},
          "output_type": "execute_result"
        }
      ],
      "source": [
        "# recall\n",
        "recall = recall_score(Y_test,y_pred, average=\"weighted\")\n",
        "recall"
      ]
    },
    {
      "cell_type": "code",
      "execution_count": null,
      "metadata": {
        "id": "NqJTs1w1nZqk",
        "outputId": "068d6e59-d21d-4ba8-8dc7-401cc75e420f"
      },
      "outputs": [
        {
          "data": {
            "text/plain": [
              "0.6475847242718191"
            ]
          },
          "execution_count": 47,
          "metadata": {},
          "output_type": "execute_result"
        }
      ],
      "source": [
        "# F1 score\n",
        "f1 =  f1_score(Y_test,y_pred, average=\"weighted\")\n",
        "f1"
      ]
    },
    {
      "cell_type": "markdown",
      "source": [
        "Model Optimization"
      ],
      "metadata": {
        "id": "RbG6mQJosSKN"
      }
    },
    {
      "cell_type": "code",
      "execution_count": null,
      "metadata": {
        "id": "2m_HfN2pJllC"
      },
      "outputs": [],
      "source": [
        "param_grid = {\n",
        "    'C': [0.01, 0.1,1,10]\n",
        "}"
      ]
    },
    {
      "cell_type": "code",
      "execution_count": null,
      "metadata": {
        "id": "VRKQaXkuJqw2",
        "outputId": "e3243fe5-5345-4ac7-aad8-0c7cef962b00"
      },
      "outputs": [
        {
          "data": {
            "text/html": [
              "<style>#sk-container-id-3 {color: black;}#sk-container-id-3 pre{padding: 0;}#sk-container-id-3 div.sk-toggleable {background-color: white;}#sk-container-id-3 label.sk-toggleable__label {cursor: pointer;display: block;width: 100%;margin-bottom: 0;padding: 0.3em;box-sizing: border-box;text-align: center;}#sk-container-id-3 label.sk-toggleable__label-arrow:before {content: \"▸\";float: left;margin-right: 0.25em;color: #696969;}#sk-container-id-3 label.sk-toggleable__label-arrow:hover:before {color: black;}#sk-container-id-3 div.sk-estimator:hover label.sk-toggleable__label-arrow:before {color: black;}#sk-container-id-3 div.sk-toggleable__content {max-height: 0;max-width: 0;overflow: hidden;text-align: left;background-color: #f0f8ff;}#sk-container-id-3 div.sk-toggleable__content pre {margin: 0.2em;color: black;border-radius: 0.25em;background-color: #f0f8ff;}#sk-container-id-3 input.sk-toggleable__control:checked~div.sk-toggleable__content {max-height: 200px;max-width: 100%;overflow: auto;}#sk-container-id-3 input.sk-toggleable__control:checked~label.sk-toggleable__label-arrow:before {content: \"▾\";}#sk-container-id-3 div.sk-estimator input.sk-toggleable__control:checked~label.sk-toggleable__label {background-color: #d4ebff;}#sk-container-id-3 div.sk-label input.sk-toggleable__control:checked~label.sk-toggleable__label {background-color: #d4ebff;}#sk-container-id-3 input.sk-hidden--visually {border: 0;clip: rect(1px 1px 1px 1px);clip: rect(1px, 1px, 1px, 1px);height: 1px;margin: -1px;overflow: hidden;padding: 0;position: absolute;width: 1px;}#sk-container-id-3 div.sk-estimator {font-family: monospace;background-color: #f0f8ff;border: 1px dotted black;border-radius: 0.25em;box-sizing: border-box;margin-bottom: 0.5em;}#sk-container-id-3 div.sk-estimator:hover {background-color: #d4ebff;}#sk-container-id-3 div.sk-parallel-item::after {content: \"\";width: 100%;border-bottom: 1px solid gray;flex-grow: 1;}#sk-container-id-3 div.sk-label:hover label.sk-toggleable__label {background-color: #d4ebff;}#sk-container-id-3 div.sk-serial::before {content: \"\";position: absolute;border-left: 1px solid gray;box-sizing: border-box;top: 0;bottom: 0;left: 50%;z-index: 0;}#sk-container-id-3 div.sk-serial {display: flex;flex-direction: column;align-items: center;background-color: white;padding-right: 0.2em;padding-left: 0.2em;position: relative;}#sk-container-id-3 div.sk-item {position: relative;z-index: 1;}#sk-container-id-3 div.sk-parallel {display: flex;align-items: stretch;justify-content: center;background-color: white;position: relative;}#sk-container-id-3 div.sk-item::before, #sk-container-id-3 div.sk-parallel-item::before {content: \"\";position: absolute;border-left: 1px solid gray;box-sizing: border-box;top: 0;bottom: 0;left: 50%;z-index: -1;}#sk-container-id-3 div.sk-parallel-item {display: flex;flex-direction: column;z-index: 1;position: relative;background-color: white;}#sk-container-id-3 div.sk-parallel-item:first-child::after {align-self: flex-end;width: 50%;}#sk-container-id-3 div.sk-parallel-item:last-child::after {align-self: flex-start;width: 50%;}#sk-container-id-3 div.sk-parallel-item:only-child::after {width: 0;}#sk-container-id-3 div.sk-dashed-wrapped {border: 1px dashed gray;margin: 0 0.4em 0.5em 0.4em;box-sizing: border-box;padding-bottom: 0.4em;background-color: white;}#sk-container-id-3 div.sk-label label {font-family: monospace;font-weight: bold;display: inline-block;line-height: 1.2em;}#sk-container-id-3 div.sk-label-container {text-align: center;}#sk-container-id-3 div.sk-container {/* jupyter's `normalize.less` sets `[hidden] { display: none; }` but bootstrap.min.css set `[hidden] { display: none !important; }` so we also need the `!important` here to be able to override the default hidden behavior on the sphinx rendered scikit-learn.org. See: https://github.com/scikit-learn/scikit-learn/issues/21755 */display: inline-block !important;position: relative;}#sk-container-id-3 div.sk-text-repr-fallback {display: none;}</style><div id=\"sk-container-id-3\" class=\"sk-top-container\"><div class=\"sk-text-repr-fallback\"><pre>GridSearchCV(cv=5, estimator=LogisticRegression(),\n",
              "             param_grid={&#x27;C&#x27;: [0.01, 0.1, 1, 10]}, scoring=&#x27;accuracy&#x27;)</pre><b>In a Jupyter environment, please rerun this cell to show the HTML representation or trust the notebook. <br />On GitHub, the HTML representation is unable to render, please try loading this page with nbviewer.org.</b></div><div class=\"sk-container\" hidden><div class=\"sk-item sk-dashed-wrapped\"><div class=\"sk-label-container\"><div class=\"sk-label sk-toggleable\"><input class=\"sk-toggleable__control sk-hidden--visually\" id=\"sk-estimator-id-3\" type=\"checkbox\" ><label for=\"sk-estimator-id-3\" class=\"sk-toggleable__label sk-toggleable__label-arrow\">GridSearchCV</label><div class=\"sk-toggleable__content\"><pre>GridSearchCV(cv=5, estimator=LogisticRegression(),\n",
              "             param_grid={&#x27;C&#x27;: [0.01, 0.1, 1, 10]}, scoring=&#x27;accuracy&#x27;)</pre></div></div></div><div class=\"sk-parallel\"><div class=\"sk-parallel-item\"><div class=\"sk-item\"><div class=\"sk-label-container\"><div class=\"sk-label sk-toggleable\"><input class=\"sk-toggleable__control sk-hidden--visually\" id=\"sk-estimator-id-4\" type=\"checkbox\" ><label for=\"sk-estimator-id-4\" class=\"sk-toggleable__label sk-toggleable__label-arrow\">estimator: LogisticRegression</label><div class=\"sk-toggleable__content\"><pre>LogisticRegression()</pre></div></div></div><div class=\"sk-serial\"><div class=\"sk-item\"><div class=\"sk-estimator sk-toggleable\"><input class=\"sk-toggleable__control sk-hidden--visually\" id=\"sk-estimator-id-5\" type=\"checkbox\" ><label for=\"sk-estimator-id-5\" class=\"sk-toggleable__label sk-toggleable__label-arrow\">LogisticRegression</label><div class=\"sk-toggleable__content\"><pre>LogisticRegression()</pre></div></div></div></div></div></div></div></div></div></div>"
            ],
            "text/plain": [
              "GridSearchCV(cv=5, estimator=LogisticRegression(),\n",
              "             param_grid={'C': [0.01, 0.1, 1, 10]}, scoring='accuracy')"
            ]
          },
          "execution_count": 31,
          "metadata": {},
          "output_type": "execute_result"
        }
      ],
      "source": [
        "# # grid_search = GridSearchCV(lr_clf, param_grid, cv=5, scoring='accuracy')\n",
        "# grid_search = GridSearchCV(lr_clf, param_grid, cv=5,scoring='accuracy')\n",
        "# grid_search.fit(X_train, Y_train)\n",
        "\n",
        "from sklearn.model_selection import GridSearchCV\n",
        "\n",
        "grid_search_lr = GridSearchCV(lr_clf, param_grid, cv=5, scoring='accuracy')\n",
        "grid_search_lr.fit(X_train,Y_train)"
      ]
    },
    {
      "cell_type": "code",
      "execution_count": null,
      "metadata": {
        "id": "omYCCI2eJwOP",
        "outputId": "2cbe157b-4c67-4414-821e-010701cfb0dc"
      },
      "outputs": [
        {
          "name": "stdout",
          "output_type": "stream",
          "text": [
            "Best hyperparameters: {'C': 0.01}\n",
            "Accuracy of tuned Logistic Regression: 0.69\n"
          ]
        }
      ],
      "source": [
        "best_params = grid_search_lr.best_params_\n",
        "print(\"Best hyperparameters:\", best_params)\n",
        "\n",
        "# Predict the classes for test set using the best model\n",
        "best_logistic = grid_search_lr.best_estimator_\n",
        "y_pred_LR_best = best_logistic.predict(X_test)\n",
        "\n",
        "# Calculate accuracy\n",
        "accuracy = accuracy_score(Y_test, y_pred_LR_best)\n",
        "print(f\"Accuracy of tuned Logistic Regression: {accuracy:.2f}\")"
      ]
    },
    {
      "cell_type": "code",
      "execution_count": null,
      "metadata": {
        "id": "u-34pdZ8nZq9"
      },
      "outputs": [],
      "source": []
    },
    {
      "cell_type": "code",
      "execution_count": null,
      "metadata": {
        "id": "nvlUufTnnZq9"
      },
      "outputs": [],
      "source": []
    }
  ],
  "metadata": {
    "colab": {
      "provenance": []
    },
    "kernelspec": {
      "display_name": "Python 3",
      "name": "python3"
    },
    "language_info": {
      "codemirror_mode": {
        "name": "ipython",
        "version": 3
      },
      "file_extension": ".py",
      "mimetype": "text/x-python",
      "name": "python",
      "nbconvert_exporter": "python",
      "pygments_lexer": "ipython3",
      "version": "3.11.4"
    }
  },
  "nbformat": 4,
  "nbformat_minor": 0
}